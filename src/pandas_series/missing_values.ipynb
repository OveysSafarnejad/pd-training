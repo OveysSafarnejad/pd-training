{
 "cells": [
  {
   "cell_type": "markdown",
   "id": "d7405b59-be9f-4603-99ca-a0314cfb83c3",
   "metadata": {},
   "source": [
    "# What should we do when there is missing values in datasets?\n",
    "\n",
    "# Sometimes it should be because of a lag in the data pipelines and in this case we have to wait for it.\n",
    "# Sometimes It's possible to make it dataset complete by joining it to other data sources.\n",
    "\n",
    "# If we are not to add missing values we could:\n",
    "# 1. Omission (remove data point with missing values) \n",
    "(Missing values are so random or it is a small percentage )\n",
    "(If more than 70 % of a feature is missing Its not good for modeling and can be removed)\n",
    "\n",
    "# 2. Imputation (infer missing values)\n",
    "(fill with deafault values)\n",
    "(using mean, median for numerics and defaults for categoricals)"
   ]
  },
  {
   "cell_type": "code",
   "execution_count": null,
   "id": "0a46af69-1cb9-4901-bd53-a55950a97e40",
   "metadata": {},
   "outputs": [],
   "source": []
  },
  {
   "cell_type": "code",
   "execution_count": null,
   "id": "ee9957ed-ec0e-4cfa-b755-0a4f6ced5d67",
   "metadata": {},
   "outputs": [],
   "source": []
  }
 ],
 "metadata": {
  "kernelspec": {
   "display_name": "Python 3 (ipykernel)",
   "language": "python",
   "name": "python3"
  },
  "language_info": {
   "codemirror_mode": {
    "name": "ipython",
    "version": 3
   },
   "file_extension": ".py",
   "mimetype": "text/x-python",
   "name": "python",
   "nbconvert_exporter": "python",
   "pygments_lexer": "ipython3",
   "version": "3.10.11"
  }
 },
 "nbformat": 4,
 "nbformat_minor": 5
}
