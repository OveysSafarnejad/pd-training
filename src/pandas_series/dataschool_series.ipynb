{
 "cells": [
  {
   "cell_type": "code",
   "execution_count": null,
   "id": "bea035a5-7821-4419-9af2-6a843d71b424",
   "metadata": {},
   "outputs": [],
   "source": [
    "import pandas as pd"
   ]
  },
  {
   "cell_type": "code",
   "execution_count": null,
   "id": "543e7c6f-8fb5-4b90-ac39-9cc8e7eba32e",
   "metadata": {},
   "outputs": [],
   "source": [
    "cols = ['user_id','age','gender', 'occupation', 'postal_code']\n",
    "frame = pd.read_table('resources/u.user', sep='|', header=None,  names=cols)"
   ]
  },
  {
   "cell_type": "code",
   "execution_count": null,
   "id": "0dc166e5-e4fa-4864-8f2d-69f78a8fc325",
   "metadata": {},
   "outputs": [],
   "source": [
    "frame.describe()"
   ]
  },
  {
   "cell_type": "code",
   "execution_count": null,
   "id": "f0d81983-9c04-4f4c-9d8b-231011c72753",
   "metadata": {},
   "outputs": [],
   "source": [
    "frame.dtypes"
   ]
  },
  {
   "cell_type": "code",
   "execution_count": null,
   "id": "a22aba44-2bf5-485e-84c6-fed7076db1d3",
   "metadata": {},
   "outputs": [],
   "source": [
    "frame.describe(include=['object'])"
   ]
  },
  {
   "cell_type": "code",
   "execution_count": null,
   "id": "6ccd7657-442f-465e-b13b-4b173be87b23",
   "metadata": {},
   "outputs": [],
   "source": [
    "\n",
    "frame.rename(columns={\"postal_code\":\"zip_code\"}, inplace=True)"
   ]
  },
  {
   "cell_type": "code",
   "execution_count": null,
   "id": "5471c679-b9db-40d6-b86c-74906c9fd224",
   "metadata": {},
   "outputs": [],
   "source": [
    "frame\n"
   ]
  },
  {
   "cell_type": "code",
   "execution_count": null,
   "id": "cb3a9aae-504b-44a5-bf2f-beac1b7682ac",
   "metadata": {},
   "outputs": [],
   "source": [
    "frame.columns\n"
   ]
  },
  {
   "cell_type": "code",
   "execution_count": null,
   "id": "34be4b7a-9845-4a86-8bc3-e24fb801f7aa",
   "metadata": {},
   "outputs": [],
   "source": [
    "frame.columns = frame.columns.str.replace('_', '-')"
   ]
  },
  {
   "cell_type": "code",
   "execution_count": null,
   "id": "f43e5ad5-64d1-4c68-aa16-f13bfd776e34",
   "metadata": {},
   "outputs": [],
   "source": [
    "frame.columns\n"
   ]
  },
  {
   "cell_type": "code",
   "execution_count": null,
   "id": "10f6378f-0423-4e38-9f2c-f5594b536306",
   "metadata": {},
   "outputs": [],
   "source": [
    "frame2 = frame"
   ]
  },
  {
   "cell_type": "code",
   "execution_count": null,
   "id": "ca19c0d2-07fc-42f2-94af-51d4241ee0e9",
   "metadata": {},
   "outputs": [],
   "source": [
    "frame2.drop(['zip-code'], axis=1)"
   ]
  },
  {
   "cell_type": "code",
   "execution_count": null,
   "id": "4db2812b-ebb9-4152-a3a2-8837c474fa9b",
   "metadata": {},
   "outputs": [],
   "source": [
    "frame2.drop(frame2.index[10:21], axis=0)"
   ]
  },
  {
   "cell_type": "code",
   "execution_count": null,
   "id": "778d78e9-66e1-4e63-aac5-73d1b88f1ba8",
   "metadata": {},
   "outputs": [],
   "source": [
    "frame.head()"
   ]
  },
  {
   "cell_type": "code",
   "execution_count": null,
   "id": "21f74f47-3277-483f-8942-54f6235e972f",
   "metadata": {},
   "outputs": [],
   "source": [
    "frame.age.sort_values()"
   ]
  },
  {
   "cell_type": "code",
   "execution_count": null,
   "id": "9b7c7258-4af9-4cdf-bd4f-aa163d4f7611",
   "metadata": {},
   "outputs": [],
   "source": [
    "frame.age.sort_values(ascending=False)"
   ]
  },
  {
   "cell_type": "code",
   "execution_count": null,
   "id": "0e7a3a37-36a6-4a04-b519-7d7ba7b5ca2a",
   "metadata": {},
   "outputs": [],
   "source": [
    "frame.sort_values('age')"
   ]
  },
  {
   "cell_type": "code",
   "execution_count": null,
   "id": "153b151f-fb6b-401a-9536-12c2c8ea7f9b",
   "metadata": {},
   "outputs": [],
   "source": [
    " frame.sort_values(['age', 'postal_code'])"
   ]
  },
  {
   "cell_type": "code",
   "execution_count": null,
   "id": "5763758f-1a87-4cd5-9fd3-fdb91866c63f",
   "metadata": {},
   "outputs": [],
   "source": [
    "frame.loc[frame.occupation.isin(['student', 'librarian'])]"
   ]
  },
  {
   "cell_type": "code",
   "execution_count": null,
   "id": "0c1b8e1d-c94e-43dd-a35d-021cd332e98e",
   "metadata": {},
   "outputs": [],
   "source": [
    "# frame_with_ignored_cols = pd.read_csv('path_to_csv.file', usecols=[<indexes> | <col_names>])"
   ]
  },
  {
   "cell_type": "code",
   "execution_count": null,
   "id": "b7c5a210-8a15-4b2b-a573-58bf6f332fad",
   "metadata": {},
   "outputs": [],
   "source": [
    "# frame_with_slice_rows = pd.read_csv('path_to_csv.file', nrows=3)"
   ]
  },
  {
   "cell_type": "code",
   "execution_count": null,
   "id": "d063567b-5220-4630-b554-ec3eb06236f7",
   "metadata": {},
   "outputs": [],
   "source": [
    "drinks = pd.read_csv('resources/drinks.csv', index_col='Country')"
   ]
  },
  {
   "cell_type": "code",
   "execution_count": null,
   "id": "d1ead062-227b-4e82-ad34-9f03913b4a80",
   "metadata": {},
   "outputs": [],
   "source": [
    "drinks.dtypes"
   ]
  },
  {
   "cell_type": "code",
   "execution_count": null,
   "id": "8a65981c-8bf9-4733-bc0e-f4d786631e97",
   "metadata": {},
   "outputs": [],
   "source": [
    "import numpy as np\n",
    "drinks.select_dtypes(include=[np.number])"
   ]
  },
  {
   "cell_type": "code",
   "execution_count": null,
   "id": "1bc37c02-8a3e-452f-a42c-6f343635b807",
   "metadata": {},
   "outputs": [],
   "source": [
    "drinks.describe(include=['int64'])"
   ]
  },
  {
   "cell_type": "code",
   "execution_count": null,
   "id": "dd5b893b-86a4-4e15-8e78-a8ffdb166adc",
   "metadata": {},
   "outputs": [],
   "source": [
    "drinks.drop(columns=['country', 'continent']).mean(axis='rows') # .mean(axis=0) 0=rows"
   ]
  },
  {
   "cell_type": "code",
   "execution_count": null,
   "id": "184663e1-8a39-4baf-bbcf-a73e2effd2d5",
   "metadata": {},
   "outputs": [],
   "source": [
    "drinks.drop(columns=['country', 'continent']).mean(axis='columns') # .mean(axis=1) 1=columns"
   ]
  },
  {
   "cell_type": "code",
   "execution_count": null,
   "id": "19c760eb-07f1-47ad-9ef6-007761ce7e3f",
   "metadata": {},
   "outputs": [],
   "source": [
    "drinks"
   ]
  },
  {
   "cell_type": "code",
   "execution_count": null,
   "id": "e2342602-7e28-4d6b-8c93-d590d580b784",
   "metadata": {},
   "outputs": [],
   "source": [
    "drinks['beer_servings'] = drinks.beer_servings.astype(float)"
   ]
  },
  {
   "cell_type": "code",
   "execution_count": null,
   "id": "f7a75146-c2ef-4b30-a7fc-5d89fab0ae81",
   "metadata": {},
   "outputs": [],
   "source": [
    "drinks\n"
   ]
  },
  {
   "cell_type": "code",
   "execution_count": null,
   "id": "835a367d-44cc-4b69-a728-51dc5bfafd62",
   "metadata": {},
   "outputs": [],
   "source": [
    "drinks = pd.read_csv('resources/drinks.csv', dtype={'country':str,'beer_servings':float})"
   ]
  },
  {
   "cell_type": "code",
   "execution_count": null,
   "id": "2b7ecc60-a884-44cf-9c00-aa603f780d14",
   "metadata": {},
   "outputs": [],
   "source": [
    "drinks.dtypes"
   ]
  },
  {
   "cell_type": "code",
   "execution_count": null,
   "id": "2e0a900b-5e85-49fe-8402-3d2c6d48f304",
   "metadata": {},
   "outputs": [],
   "source": [
    "orders = pd.read_table('resources/chipotle.tsv')"
   ]
  },
  {
   "cell_type": "code",
   "execution_count": null,
   "id": "268c04ef-405e-4813-82bd-1f850a541b0a",
   "metadata": {},
   "outputs": [],
   "source": [
    "orders"
   ]
  },
  {
   "cell_type": "code",
   "execution_count": null,
   "id": "33042bdb-2a29-4ca8-ac4f-a21d0ef9d0e1",
   "metadata": {},
   "outputs": [],
   "source": [
    "orders['item_price'] = orders.item_price.str.replace(\"$\", \"\")"
   ]
  },
  {
   "cell_type": "code",
   "execution_count": null,
   "id": "81ab7335-7b2a-46a3-9a55-63c8119bc287",
   "metadata": {},
   "outputs": [],
   "source": [
    "orders['item_price'] = orders.item_price.astype(float)"
   ]
  },
  {
   "cell_type": "code",
   "execution_count": null,
   "id": "62af4a41-14eb-4cca-b9af-308d97e7f0c2",
   "metadata": {},
   "outputs": [],
   "source": [
    "orders.item_price.mean()"
   ]
  },
  {
   "cell_type": "code",
   "execution_count": null,
   "id": "ab247e64-df8c-4fcc-b64a-87ed6f7db568",
   "metadata": {},
   "outputs": [],
   "source": [
    "drinks.groupby('continent').beer_servings.mean()"
   ]
  },
  {
   "cell_type": "code",
   "execution_count": null,
   "id": "2a5abbd3-503b-4a5e-ba87-3070cb0ad5d6",
   "metadata": {},
   "outputs": [],
   "source": [
    "drinks.loc[drinks['continent'] == 'Africa'].beer_servings.mean()"
   ]
  },
  {
   "cell_type": "code",
   "execution_count": null,
   "id": "752c2e07-0095-4801-87a5-92835625b5e7",
   "metadata": {},
   "outputs": [],
   "source": [
    "drinks.loc[drinks.continent == \"Africa\"].beer_servings.agg(['max','min'])"
   ]
  },
  {
   "cell_type": "code",
   "execution_count": null,
   "id": "b6f7200f-55eb-453c-b7cb-5c4b23221e0b",
   "metadata": {},
   "outputs": [],
   "source": [
    "drinks.groupby('continent').beer_servings.agg(['max','min'])\n"
   ]
  },
  {
   "cell_type": "code",
   "execution_count": null,
   "id": "38f970e5-eb97-41c6-bdf8-7b95892d61f8",
   "metadata": {},
   "outputs": [],
   "source": [
    "drinks_numerics =  drinks.drop(columns=['country'])\n",
    "drinks_numerics.groupby('continent').mean()\n"
   ]
  },
  {
   "cell_type": "code",
   "execution_count": null,
   "id": "7a4e387d-5428-4f27-bd48-13f3eebcff70",
   "metadata": {},
   "outputs": [],
   "source": [
    "%matplotlib inline"
   ]
  },
  {
   "cell_type": "code",
   "execution_count": null,
   "id": "83d17fd1-356c-4b4f-a566-48752b94f5d4",
   "metadata": {},
   "outputs": [],
   "source": [
    "drinks_numerics.groupby('continent').mean().plot(kind='bar')"
   ]
  },
  {
   "cell_type": "code",
   "execution_count": null,
   "id": "a21a8c6a-43e6-42f5-8c3d-f48484c48a75",
   "metadata": {},
   "outputs": [],
   "source": [
    "drinks.continent.describe()"
   ]
  },
  {
   "cell_type": "code",
   "execution_count": null,
   "id": "52f989e3-61ab-45c7-99f3-4ca78c09dafd",
   "metadata": {},
   "outputs": [],
   "source": [
    "drinks.continent.describe().unique"
   ]
  },
  {
   "cell_type": "code",
   "execution_count": null,
   "id": "758e3c58-1e5a-417a-88db-728c5a5434f8",
   "metadata": {},
   "outputs": [],
   "source": [
    "drinks.describe()"
   ]
  },
  {
   "cell_type": "code",
   "execution_count": null,
   "id": "16ac796b-b47d-4129-8b15-c33847c40c65",
   "metadata": {},
   "outputs": [],
   "source": [
    "drinks.continent.value_counts()"
   ]
  },
  {
   "cell_type": "code",
   "execution_count": null,
   "id": "304972c9-bcb4-49db-bccf-b82519d156e6",
   "metadata": {},
   "outputs": [],
   "source": [
    "drinks.continent.value_counts(normalize=True)"
   ]
  },
  {
   "cell_type": "code",
   "execution_count": null,
   "id": "9453aab7-8152-478e-80ee-f84e685474e0",
   "metadata": {},
   "outputs": [],
   "source": [
    "drinks.continent.unique()"
   ]
  },
  {
   "cell_type": "code",
   "execution_count": null,
   "id": "4d91c0d9-58bc-4c4a-89e6-c89c65ba0509",
   "metadata": {},
   "outputs": [],
   "source": [
    "drinks.continent.nunique()"
   ]
  },
  {
   "cell_type": "code",
   "execution_count": null,
   "id": "6567038b-437c-4a42-a3eb-91c9d06c0b47",
   "metadata": {},
   "outputs": [],
   "source": [
    "pd.crosstab(drinks.continent, drinks.country)"
   ]
  },
  {
   "cell_type": "code",
   "execution_count": null,
   "id": "fca5ea6f-b2c1-4bd1-930f-8f1d6ada71f1",
   "metadata": {},
   "outputs": [],
   "source": [
    "drinks"
   ]
  },
  {
   "cell_type": "code",
   "execution_count": null,
   "id": "5f28b14a-21c4-4996-9eb1-b5a922d2c78f",
   "metadata": {},
   "outputs": [],
   "source": [
    "drinks.beer_servings.describe()"
   ]
  },
  {
   "cell_type": "code",
   "execution_count": null,
   "id": "b225c980-57c1-453c-8aaa-313ce032cd9a",
   "metadata": {},
   "outputs": [],
   "source": [
    "%matplotlib inline"
   ]
  },
  {
   "cell_type": "code",
   "execution_count": null,
   "id": "4acce400-2939-41be-87c7-a516eff3784c",
   "metadata": {},
   "outputs": [],
   "source": [
    "drinks.continent.value_counts().plot(kind='bar')"
   ]
  },
  {
   "cell_type": "code",
   "execution_count": null,
   "id": "7ae64117-29ba-4f5f-8685-912dbd8305a1",
   "metadata": {},
   "outputs": [],
   "source": [
    "drinks.beer_servings.plot(kind='hist')"
   ]
  },
  {
   "cell_type": "markdown",
   "id": "9c67df89-93e2-4ecd-856a-8cc6d622a527",
   "metadata": {},
   "source": [
    "# HANDLING MISSING VALUES\n"
   ]
  },
  {
   "cell_type": "code",
   "execution_count": null,
   "id": "83a88e59-26be-4ac3-9f63-3e931fe0c406",
   "metadata": {},
   "outputs": [],
   "source": [
    "ufo = pd.read_csv('resources/ufo.csv')\n"
   ]
  },
  {
   "cell_type": "code",
   "execution_count": null,
   "id": "ce58bebe-01ca-498d-8c8b-1033e3ebb481",
   "metadata": {},
   "outputs": [],
   "source": [
    "ufo.isnull().tail()"
   ]
  },
  {
   "cell_type": "code",
   "execution_count": null,
   "id": "f2c0f57b-6805-4f2b-9d82-36e8fc9a5926",
   "metadata": {},
   "outputs": [],
   "source": [
    "ufo.notnull().tail()"
   ]
  },
  {
   "cell_type": "code",
   "execution_count": null,
   "id": "38f8b4d4-c984-4675-a7b0-ecdb90505ed7",
   "metadata": {},
   "outputs": [],
   "source": [
    "ufo.isnull().sum()"
   ]
  },
  {
   "cell_type": "code",
   "execution_count": null,
   "id": "98b9ee88-b885-4646-8f38-11c20eda4ddf",
   "metadata": {},
   "outputs": [],
   "source": [
    "\n",
    "ufo.loc[ufo.City.isnull()]"
   ]
  },
  {
   "cell_type": "code",
   "execution_count": null,
   "id": "2716e881-bd31-4d56-a50e-78bc6781d87f",
   "metadata": {},
   "outputs": [],
   "source": [
    "ufo.dropna(how='any')"
   ]
  },
  {
   "cell_type": "code",
   "execution_count": null,
   "id": "da699d76-22b5-49c5-a3af-8a47cdf05b2d",
   "metadata": {},
   "outputs": [],
   "source": [
    "ufo.dropna(how='all')"
   ]
  },
  {
   "cell_type": "code",
   "execution_count": null,
   "id": "f0e78199-ce1a-40f1-945b-a4180469252a",
   "metadata": {},
   "outputs": [],
   "source": [
    "ufo.dropna(subset=['City', 'Shape Reported'], how='all') "
   ]
  },
  {
   "cell_type": "code",
   "execution_count": null,
   "id": "939d14b3-98ca-43a4-9274-a04ac6caa428",
   "metadata": {},
   "outputs": [],
   "source": [
    "ufo['Shape Reported'].value_counts(dropna=False)"
   ]
  },
  {
   "cell_type": "markdown",
   "id": "0928a31f-9dd5-4ffc-81b7-b0658c4cfb29",
   "metadata": {},
   "source": [
    "# Replacing Missing Values"
   ]
  },
  {
   "cell_type": "code",
   "execution_count": null,
   "id": "1674f7c5-e4fa-4694-85c3-2cbd07f81a38",
   "metadata": {},
   "outputs": [],
   "source": [
    "import pandas as pd\n",
    "ufo = pd.read_csv('resources/ufo.csv')\n",
    "\n",
    "percentages = ufo['Shape Reported'].value_counts(normalize=True)\n",
    "percentages.index.tolist()\n",
    "# import random\n",
    "# def guess_shape():\n",
    "#     return random.choices(percentages.index.tolist(), weights=percentages.tolist(), k=1)[0]\n",
    "\n",
    "\n"
   ]
  },
  {
   "cell_type": "code",
   "execution_count": null,
   "id": "63ed8dcc-1af5-482f-8e15-c9c94e1532ab",
   "metadata": {},
   "outputs": [],
   "source": [
    "ufo['Shape Reported'].value_counts(normalize=True, dropna=True)"
   ]
  },
  {
   "cell_type": "code",
   "execution_count": null,
   "id": "910b891a-a2e6-4d05-9778-18660c95e88e",
   "metadata": {},
   "outputs": [],
   "source": [
    "ufo['Shape Reported'].fillna(value=guess_shape(), inplace=True)"
   ]
  },
  {
   "cell_type": "code",
   "execution_count": null,
   "id": "c2f4e436-386b-402f-8751-6bed3dac3389",
   "metadata": {},
   "outputs": [],
   "source": [
    "ufo['Shape Reported'].value_counts(normalize=True, dropna=True)"
   ]
  },
  {
   "cell_type": "markdown",
   "id": "d5733377-6bbe-460a-a743-ef1ab0a52341",
   "metadata": {},
   "source": [
    "# Indexing application in dataframes:\n",
    "1. Identification (each row has a sticky identifier)\n",
    "2. Selection (using loc function)\n",
    "3. Allignment (mix to dataseries our dataframes together even if they doont have equal length and it matches by indexes)"
   ]
  },
  {
   "cell_type": "code",
   "execution_count": null,
   "id": "c30e202e-4912-49b3-99bc-04a1ab3464eb",
   "metadata": {},
   "outputs": [],
   "source": [
    "# Alignment example\n",
    "serie_1 = pd.Series([1000, 2000, 3000], index=[\"Chips\", \"Pofak\", \"Pastil\"], name=\"HaleHoole\")\n",
    "serie_2 = pd.Series([227, 149], index=[\"Chips\", \"Pastil\"], name=\"HaleHoole_tedad\")\n",
    "serie_1 * serie_2\n"
   ]
  },
  {
   "cell_type": "code",
   "execution_count": null,
   "id": "ab55d1f9-2533-48f8-a62d-e3b482b58168",
   "metadata": {},
   "outputs": [],
   "source": [
    "# or another example for allignment:\n",
    "\n",
    "pd.concat([serie_1, serie_2], axis = 'columns')"
   ]
  },
  {
   "cell_type": "markdown",
   "id": "fe020dfe-9886-4fb0-af6b-5c1891ddcca8",
   "metadata": {},
   "source": [
    "# What is loc and iloc and ix"
   ]
  },
  {
   "cell_type": "code",
   "execution_count": null,
   "id": "7b62d634-6183-4ce7-8f51-c16125a18a93",
   "metadata": {},
   "outputs": [],
   "source": [
    "# loc works with labels\n",
    "# frame.loc[rows, columns] like frame.loc[1, :] means row one but all columns\n",
    "\n",
    "#iloc uses integer position of rows and columns\n",
    "#frame.iloc[2:5, :]\n",
    "\n",
    "# ix uses mix of integer positions and labels for finding\n",
    "# frame.ix[2:5, 'a':'z'] or frame.ix['a':'z', 1:4]   (DEPRECATED)"
   ]
  },
  {
   "cell_type": "code",
   "execution_count": null,
   "id": "146cfcbe-72a5-4166-9c69-6fd930e4ff64",
   "metadata": {},
   "outputs": [],
   "source": [
    "# ranges :\n",
    "# 3:6 means 3,4,5,6 in loc and 3,4,5 in iloc\n",
    "# so ranges are inclusive in loc but not in iloc"
   ]
  },
  {
   "cell_type": "markdown",
   "id": "97b3aef7-6837-4654-a524-4cfc86a8aced",
   "metadata": {},
   "source": [
    "# When should I use frame.loc[] and when should I use frame[] when we have oolean filtering?"
   ]
  },
  {
   "cell_type": "code",
   "execution_count": null,
   "id": "0bb4114c-63db-40ce-8d80-30b14d7c2ef8",
   "metadata": {},
   "outputs": [],
   "source": []
  },
  {
   "cell_type": "markdown",
   "id": "e5652938-b877-4310-ac8c-0a3580612ea3",
   "metadata": {},
   "source": [
    "# Working with category datatype"
   ]
  },
  {
   "cell_type": "code",
   "execution_count": null,
   "id": "663b0fcd-fb45-4e5b-9332-f805f9bd8edb",
   "metadata": {},
   "outputs": [],
   "source": [
    "import pandas as pd\n",
    "drinks = pd.read_csv('resources/drinks.csv')"
   ]
  },
  {
   "cell_type": "code",
   "execution_count": null,
   "id": "3e47426e-278d-4e2e-9664-804edc21873f",
   "metadata": {},
   "outputs": [],
   "source": [
    "drinks\n",
    "sorted(drinks.continent.unique())"
   ]
  },
  {
   "cell_type": "code",
   "execution_count": null,
   "id": "d111ba40-9dc5-4605-9560-7a881bc74c0e",
   "metadata": {},
   "outputs": [],
   "source": [
    "drinks.memory_usage(deep=True).sum()"
   ]
  },
  {
   "cell_type": "code",
   "execution_count": null,
   "id": "19407f54-20c7-4b9f-8827-95e46a067d57",
   "metadata": {},
   "outputs": [],
   "source": [
    "# drinks.continent = drinks.continent.astype('category')\n",
    "# or\n",
    "drinks.continent = drinks.continent.astype(pd.api.types.CategoricalDtype(categories = sorted(drinks.continent.unique()), ordered=True))\n"
   ]
  },
  {
   "cell_type": "code",
   "execution_count": null,
   "id": "880a478f-c082-407a-864b-8f90f97d310e",
   "metadata": {},
   "outputs": [],
   "source": [
    "drinks.loc[drinks.continent > 'Europe'] # IMPORTANT"
   ]
  },
  {
   "cell_type": "code",
   "execution_count": null,
   "id": "f55f266c-d461-4911-ad76-8ca8cd0bae37",
   "metadata": {},
   "outputs": [],
   "source": [
    "# drinks.country = drinks.country.astype('category') \n",
    "# this conversion is not memoryy efficient because in the normal state pandas stores 193 strings \n",
    "# for the countries ut after this code it should save 193 integers and 193 strings again for the category map.\n",
    "\n",
    "# But as a result we can say that converting to category dtypes makes computaions faster when \n",
    "# we have large volume of data\n"
   ]
  },
  {
   "cell_type": "code",
   "execution_count": null,
   "id": "14497e92-bf3b-4225-b0d4-52864a8395f2",
   "metadata": {},
   "outputs": [],
   "source": [
    "drinks.memory_usage(deep=True).sum()"
   ]
  },
  {
   "cell_type": "code",
   "execution_count": null,
   "id": "c5b011b0-cc21-4d18-be3a-6c4fe6e83603",
   "metadata": {},
   "outputs": [],
   "source": [
    "drinks.info(memory_usage='deep')"
   ]
  },
  {
   "cell_type": "code",
   "execution_count": null,
   "id": "6515dcfe-841a-4d3b-a887-f56c46a01383",
   "metadata": {},
   "outputs": [],
   "source": [
    "drinks.continent.sort_values().head(70)"
   ]
  },
  {
   "cell_type": "code",
   "execution_count": 1,
   "id": "67ec9e42-708b-4847-9892-9fbf1396ae7f",
   "metadata": {},
   "outputs": [],
   "source": [
    "# Working with samples"
   ]
  },
  {
   "cell_type": "code",
   "execution_count": 2,
   "id": "c4bf9afd-ef70-4fee-b9c9-cc6a8ad1194e",
   "metadata": {},
   "outputs": [],
   "source": [
    "import pandas as pd"
   ]
  },
  {
   "cell_type": "code",
   "execution_count": 9,
   "id": "bd59151e-9947-4ac3-8639-0fdf5cc52730",
   "metadata": {},
   "outputs": [],
   "source": [
    "drinks = pd.read_csv('resources/drinks.csv')"
   ]
  },
  {
   "cell_type": "code",
   "execution_count": 11,
   "id": "b4fcf883-8894-43aa-919a-2a9dd54c0475",
   "metadata": {},
   "outputs": [],
   "source": [
    "# sample = drinks.sample(3)\n",
    "train = drinks.sample(frac=0.25)\n",
    "test = drinks.loc[~drinks.index.isin(train.index), :]"
   ]
  },
  {
   "cell_type": "code",
   "execution_count": 12,
   "id": "3f50ccb4-ecdd-40be-8e95-a82f22a4fc4a",
   "metadata": {},
   "outputs": [
    {
     "data": {
      "text/plain": [
       "(145, 48)"
      ]
     },
     "execution_count": 12,
     "metadata": {},
     "output_type": "execute_result"
    }
   ],
   "source": [
    "len(test), len(train)"
   ]
  },
  {
   "cell_type": "markdown",
   "id": "058445f0-ab8c-4814-8902-7a6604cdc410",
   "metadata": {},
   "source": [
    "# WORKING WITH KAGGLE DATASETS"
   ]
  },
  {
   "cell_type": "code",
   "execution_count": 14,
   "id": "28aa8e45-5340-45df-98f3-d4a5e6011a07",
   "metadata": {},
   "outputs": [],
   "source": [
    "import pandas as pd"
   ]
  },
  {
   "cell_type": "code",
   "execution_count": 38,
   "id": "ee41e035-377f-4c04-b892-433089485de0",
   "metadata": {},
   "outputs": [],
   "source": [
    "passengers = pd.read_csv('resources/titanic_train.csv')"
   ]
  },
  {
   "cell_type": "code",
   "execution_count": 16,
   "id": "4a920a91-548e-4f78-8410-2f31fa7e4f24",
   "metadata": {},
   "outputs": [
    {
     "data": {
      "text/plain": [
       "(891, 12)"
      ]
     },
     "execution_count": 16,
     "metadata": {},
     "output_type": "execute_result"
    }
   ],
   "source": [
    "passengers.shape"
   ]
  },
  {
   "cell_type": "code",
   "execution_count": 22,
   "id": "d3ca2e4f-c827-4401-9960-d1b427a74461",
   "metadata": {},
   "outputs": [
    {
     "data": {
      "text/html": [
       "<div>\n",
       "<style scoped>\n",
       "    .dataframe tbody tr th:only-of-type {\n",
       "        vertical-align: middle;\n",
       "    }\n",
       "\n",
       "    .dataframe tbody tr th {\n",
       "        vertical-align: top;\n",
       "    }\n",
       "\n",
       "    .dataframe thead th {\n",
       "        text-align: right;\n",
       "    }\n",
       "</style>\n",
       "<table border=\"1\" class=\"dataframe\">\n",
       "  <thead>\n",
       "    <tr style=\"text-align: right;\">\n",
       "      <th></th>\n",
       "      <th>PassengerId</th>\n",
       "      <th>Survived</th>\n",
       "      <th>Pclass</th>\n",
       "      <th>Name</th>\n",
       "      <th>Sex</th>\n",
       "      <th>Age</th>\n",
       "      <th>SibSp</th>\n",
       "      <th>Parch</th>\n",
       "      <th>Ticket</th>\n",
       "      <th>Fare</th>\n",
       "      <th>Cabin</th>\n",
       "      <th>Embarked</th>\n",
       "    </tr>\n",
       "  </thead>\n",
       "  <tbody>\n",
       "    <tr>\n",
       "      <th>0</th>\n",
       "      <td>1</td>\n",
       "      <td>0</td>\n",
       "      <td>3</td>\n",
       "      <td>Braund, Mr. Owen Harris</td>\n",
       "      <td>male</td>\n",
       "      <td>22.0</td>\n",
       "      <td>1</td>\n",
       "      <td>0</td>\n",
       "      <td>A/5 21171</td>\n",
       "      <td>7.2500</td>\n",
       "      <td>NaN</td>\n",
       "      <td>S</td>\n",
       "    </tr>\n",
       "    <tr>\n",
       "      <th>1</th>\n",
       "      <td>2</td>\n",
       "      <td>1</td>\n",
       "      <td>1</td>\n",
       "      <td>Cumings, Mrs. John Bradley (Florence Briggs Th...</td>\n",
       "      <td>female</td>\n",
       "      <td>38.0</td>\n",
       "      <td>1</td>\n",
       "      <td>0</td>\n",
       "      <td>PC 17599</td>\n",
       "      <td>71.2833</td>\n",
       "      <td>C85</td>\n",
       "      <td>C</td>\n",
       "    </tr>\n",
       "    <tr>\n",
       "      <th>2</th>\n",
       "      <td>3</td>\n",
       "      <td>1</td>\n",
       "      <td>3</td>\n",
       "      <td>Heikkinen, Miss. Laina</td>\n",
       "      <td>female</td>\n",
       "      <td>26.0</td>\n",
       "      <td>0</td>\n",
       "      <td>0</td>\n",
       "      <td>STON/O2. 3101282</td>\n",
       "      <td>7.9250</td>\n",
       "      <td>NaN</td>\n",
       "      <td>S</td>\n",
       "    </tr>\n",
       "    <tr>\n",
       "      <th>3</th>\n",
       "      <td>4</td>\n",
       "      <td>1</td>\n",
       "      <td>1</td>\n",
       "      <td>Futrelle, Mrs. Jacques Heath (Lily May Peel)</td>\n",
       "      <td>female</td>\n",
       "      <td>35.0</td>\n",
       "      <td>1</td>\n",
       "      <td>0</td>\n",
       "      <td>113803</td>\n",
       "      <td>53.1000</td>\n",
       "      <td>C123</td>\n",
       "      <td>S</td>\n",
       "    </tr>\n",
       "    <tr>\n",
       "      <th>4</th>\n",
       "      <td>5</td>\n",
       "      <td>0</td>\n",
       "      <td>3</td>\n",
       "      <td>Allen, Mr. William Henry</td>\n",
       "      <td>male</td>\n",
       "      <td>35.0</td>\n",
       "      <td>0</td>\n",
       "      <td>0</td>\n",
       "      <td>373450</td>\n",
       "      <td>8.0500</td>\n",
       "      <td>NaN</td>\n",
       "      <td>S</td>\n",
       "    </tr>\n",
       "  </tbody>\n",
       "</table>\n",
       "</div>"
      ],
      "text/plain": [
       "   PassengerId  Survived  Pclass  \\\n",
       "0            1         0       3   \n",
       "1            2         1       1   \n",
       "2            3         1       3   \n",
       "3            4         1       1   \n",
       "4            5         0       3   \n",
       "\n",
       "                                                Name     Sex   Age  SibSp  \\\n",
       "0                            Braund, Mr. Owen Harris    male  22.0      1   \n",
       "1  Cumings, Mrs. John Bradley (Florence Briggs Th...  female  38.0      1   \n",
       "2                             Heikkinen, Miss. Laina  female  26.0      0   \n",
       "3       Futrelle, Mrs. Jacques Heath (Lily May Peel)  female  35.0      1   \n",
       "4                           Allen, Mr. William Henry    male  35.0      0   \n",
       "\n",
       "   Parch            Ticket     Fare Cabin Embarked  \n",
       "0      0         A/5 21171   7.2500   NaN        S  \n",
       "1      0          PC 17599  71.2833   C85        C  \n",
       "2      0  STON/O2. 3101282   7.9250   NaN        S  \n",
       "3      0            113803  53.1000  C123        S  \n",
       "4      0            373450   8.0500   NaN        S  "
      ]
     },
     "execution_count": 22,
     "metadata": {},
     "output_type": "execute_result"
    }
   ],
   "source": [
    "passengers.head(5)"
   ]
  },
  {
   "cell_type": "code",
   "execution_count": 23,
   "id": "ed979a05-ee21-49d4-9310-b31eee195f37",
   "metadata": {},
   "outputs": [],
   "source": [
    "passengers.Sex = passengers.Sex.map({'male':1, 'female':0})"
   ]
  },
  {
   "cell_type": "code",
   "execution_count": 24,
   "id": "7e2c8bd6-7b23-49c8-8747-8ce7897b83e2",
   "metadata": {},
   "outputs": [
    {
     "data": {
      "text/html": [
       "<div>\n",
       "<style scoped>\n",
       "    .dataframe tbody tr th:only-of-type {\n",
       "        vertical-align: middle;\n",
       "    }\n",
       "\n",
       "    .dataframe tbody tr th {\n",
       "        vertical-align: top;\n",
       "    }\n",
       "\n",
       "    .dataframe thead th {\n",
       "        text-align: right;\n",
       "    }\n",
       "</style>\n",
       "<table border=\"1\" class=\"dataframe\">\n",
       "  <thead>\n",
       "    <tr style=\"text-align: right;\">\n",
       "      <th></th>\n",
       "      <th>PassengerId</th>\n",
       "      <th>Survived</th>\n",
       "      <th>Pclass</th>\n",
       "      <th>Name</th>\n",
       "      <th>Sex</th>\n",
       "      <th>Age</th>\n",
       "      <th>SibSp</th>\n",
       "      <th>Parch</th>\n",
       "      <th>Ticket</th>\n",
       "      <th>Fare</th>\n",
       "      <th>Cabin</th>\n",
       "      <th>Embarked</th>\n",
       "    </tr>\n",
       "  </thead>\n",
       "  <tbody>\n",
       "    <tr>\n",
       "      <th>0</th>\n",
       "      <td>1</td>\n",
       "      <td>0</td>\n",
       "      <td>3</td>\n",
       "      <td>Braund, Mr. Owen Harris</td>\n",
       "      <td>1</td>\n",
       "      <td>22.0</td>\n",
       "      <td>1</td>\n",
       "      <td>0</td>\n",
       "      <td>A/5 21171</td>\n",
       "      <td>7.2500</td>\n",
       "      <td>NaN</td>\n",
       "      <td>S</td>\n",
       "    </tr>\n",
       "    <tr>\n",
       "      <th>1</th>\n",
       "      <td>2</td>\n",
       "      <td>1</td>\n",
       "      <td>1</td>\n",
       "      <td>Cumings, Mrs. John Bradley (Florence Briggs Th...</td>\n",
       "      <td>0</td>\n",
       "      <td>38.0</td>\n",
       "      <td>1</td>\n",
       "      <td>0</td>\n",
       "      <td>PC 17599</td>\n",
       "      <td>71.2833</td>\n",
       "      <td>C85</td>\n",
       "      <td>C</td>\n",
       "    </tr>\n",
       "    <tr>\n",
       "      <th>2</th>\n",
       "      <td>3</td>\n",
       "      <td>1</td>\n",
       "      <td>3</td>\n",
       "      <td>Heikkinen, Miss. Laina</td>\n",
       "      <td>0</td>\n",
       "      <td>26.0</td>\n",
       "      <td>0</td>\n",
       "      <td>0</td>\n",
       "      <td>STON/O2. 3101282</td>\n",
       "      <td>7.9250</td>\n",
       "      <td>NaN</td>\n",
       "      <td>S</td>\n",
       "    </tr>\n",
       "    <tr>\n",
       "      <th>3</th>\n",
       "      <td>4</td>\n",
       "      <td>1</td>\n",
       "      <td>1</td>\n",
       "      <td>Futrelle, Mrs. Jacques Heath (Lily May Peel)</td>\n",
       "      <td>0</td>\n",
       "      <td>35.0</td>\n",
       "      <td>1</td>\n",
       "      <td>0</td>\n",
       "      <td>113803</td>\n",
       "      <td>53.1000</td>\n",
       "      <td>C123</td>\n",
       "      <td>S</td>\n",
       "    </tr>\n",
       "    <tr>\n",
       "      <th>4</th>\n",
       "      <td>5</td>\n",
       "      <td>0</td>\n",
       "      <td>3</td>\n",
       "      <td>Allen, Mr. William Henry</td>\n",
       "      <td>1</td>\n",
       "      <td>35.0</td>\n",
       "      <td>0</td>\n",
       "      <td>0</td>\n",
       "      <td>373450</td>\n",
       "      <td>8.0500</td>\n",
       "      <td>NaN</td>\n",
       "      <td>S</td>\n",
       "    </tr>\n",
       "  </tbody>\n",
       "</table>\n",
       "</div>"
      ],
      "text/plain": [
       "   PassengerId  Survived  Pclass  \\\n",
       "0            1         0       3   \n",
       "1            2         1       1   \n",
       "2            3         1       3   \n",
       "3            4         1       1   \n",
       "4            5         0       3   \n",
       "\n",
       "                                                Name  Sex   Age  SibSp  Parch  \\\n",
       "0                            Braund, Mr. Owen Harris    1  22.0      1      0   \n",
       "1  Cumings, Mrs. John Bradley (Florence Briggs Th...    0  38.0      1      0   \n",
       "2                             Heikkinen, Miss. Laina    0  26.0      0      0   \n",
       "3       Futrelle, Mrs. Jacques Heath (Lily May Peel)    0  35.0      1      0   \n",
       "4                           Allen, Mr. William Henry    1  35.0      0      0   \n",
       "\n",
       "             Ticket     Fare Cabin Embarked  \n",
       "0         A/5 21171   7.2500   NaN        S  \n",
       "1          PC 17599  71.2833   C85        C  \n",
       "2  STON/O2. 3101282   7.9250   NaN        S  \n",
       "3            113803  53.1000  C123        S  \n",
       "4            373450   8.0500   NaN        S  "
      ]
     },
     "execution_count": 24,
     "metadata": {},
     "output_type": "execute_result"
    }
   ],
   "source": [
    "passengers.head(5)"
   ]
  },
  {
   "cell_type": "code",
   "execution_count": 25,
   "id": "636da3e8-43a3-46cf-a6ae-514b872d4c9c",
   "metadata": {},
   "outputs": [],
   "source": [
    "# or"
   ]
  },
  {
   "cell_type": "code",
   "execution_count": 30,
   "id": "40d94b2a-7b7f-46f2-9b3f-c538fe0b63cb",
   "metadata": {},
   "outputs": [],
   "source": [
    "# passengers.Sex = pd.get_dummies(passengers.Sex).iloc[:, 1:]"
   ]
  },
  {
   "cell_type": "code",
   "execution_count": 31,
   "id": "1a19fbf3-e8fe-43fe-81f5-caa16ed41580",
   "metadata": {},
   "outputs": [
    {
     "data": {
      "text/html": [
       "<div>\n",
       "<style scoped>\n",
       "    .dataframe tbody tr th:only-of-type {\n",
       "        vertical-align: middle;\n",
       "    }\n",
       "\n",
       "    .dataframe tbody tr th {\n",
       "        vertical-align: top;\n",
       "    }\n",
       "\n",
       "    .dataframe thead th {\n",
       "        text-align: right;\n",
       "    }\n",
       "</style>\n",
       "<table border=\"1\" class=\"dataframe\">\n",
       "  <thead>\n",
       "    <tr style=\"text-align: right;\">\n",
       "      <th></th>\n",
       "      <th>PassengerId</th>\n",
       "      <th>Survived</th>\n",
       "      <th>Pclass</th>\n",
       "      <th>Name</th>\n",
       "      <th>Sex</th>\n",
       "      <th>Age</th>\n",
       "      <th>SibSp</th>\n",
       "      <th>Parch</th>\n",
       "      <th>Ticket</th>\n",
       "      <th>Fare</th>\n",
       "      <th>Cabin</th>\n",
       "      <th>Embarked</th>\n",
       "    </tr>\n",
       "  </thead>\n",
       "  <tbody>\n",
       "    <tr>\n",
       "      <th>0</th>\n",
       "      <td>1</td>\n",
       "      <td>0</td>\n",
       "      <td>3</td>\n",
       "      <td>Braund, Mr. Owen Harris</td>\n",
       "      <td>True</td>\n",
       "      <td>22.0</td>\n",
       "      <td>1</td>\n",
       "      <td>0</td>\n",
       "      <td>A/5 21171</td>\n",
       "      <td>7.2500</td>\n",
       "      <td>NaN</td>\n",
       "      <td>S</td>\n",
       "    </tr>\n",
       "    <tr>\n",
       "      <th>1</th>\n",
       "      <td>2</td>\n",
       "      <td>1</td>\n",
       "      <td>1</td>\n",
       "      <td>Cumings, Mrs. John Bradley (Florence Briggs Th...</td>\n",
       "      <td>False</td>\n",
       "      <td>38.0</td>\n",
       "      <td>1</td>\n",
       "      <td>0</td>\n",
       "      <td>PC 17599</td>\n",
       "      <td>71.2833</td>\n",
       "      <td>C85</td>\n",
       "      <td>C</td>\n",
       "    </tr>\n",
       "    <tr>\n",
       "      <th>2</th>\n",
       "      <td>3</td>\n",
       "      <td>1</td>\n",
       "      <td>3</td>\n",
       "      <td>Heikkinen, Miss. Laina</td>\n",
       "      <td>False</td>\n",
       "      <td>26.0</td>\n",
       "      <td>0</td>\n",
       "      <td>0</td>\n",
       "      <td>STON/O2. 3101282</td>\n",
       "      <td>7.9250</td>\n",
       "      <td>NaN</td>\n",
       "      <td>S</td>\n",
       "    </tr>\n",
       "    <tr>\n",
       "      <th>3</th>\n",
       "      <td>4</td>\n",
       "      <td>1</td>\n",
       "      <td>1</td>\n",
       "      <td>Futrelle, Mrs. Jacques Heath (Lily May Peel)</td>\n",
       "      <td>False</td>\n",
       "      <td>35.0</td>\n",
       "      <td>1</td>\n",
       "      <td>0</td>\n",
       "      <td>113803</td>\n",
       "      <td>53.1000</td>\n",
       "      <td>C123</td>\n",
       "      <td>S</td>\n",
       "    </tr>\n",
       "    <tr>\n",
       "      <th>4</th>\n",
       "      <td>5</td>\n",
       "      <td>0</td>\n",
       "      <td>3</td>\n",
       "      <td>Allen, Mr. William Henry</td>\n",
       "      <td>True</td>\n",
       "      <td>35.0</td>\n",
       "      <td>0</td>\n",
       "      <td>0</td>\n",
       "      <td>373450</td>\n",
       "      <td>8.0500</td>\n",
       "      <td>NaN</td>\n",
       "      <td>S</td>\n",
       "    </tr>\n",
       "  </tbody>\n",
       "</table>\n",
       "</div>"
      ],
      "text/plain": [
       "   PassengerId  Survived  Pclass  \\\n",
       "0            1         0       3   \n",
       "1            2         1       1   \n",
       "2            3         1       3   \n",
       "3            4         1       1   \n",
       "4            5         0       3   \n",
       "\n",
       "                                                Name    Sex   Age  SibSp  \\\n",
       "0                            Braund, Mr. Owen Harris   True  22.0      1   \n",
       "1  Cumings, Mrs. John Bradley (Florence Briggs Th...  False  38.0      1   \n",
       "2                             Heikkinen, Miss. Laina  False  26.0      0   \n",
       "3       Futrelle, Mrs. Jacques Heath (Lily May Peel)  False  35.0      1   \n",
       "4                           Allen, Mr. William Henry   True  35.0      0   \n",
       "\n",
       "   Parch            Ticket     Fare Cabin Embarked  \n",
       "0      0         A/5 21171   7.2500   NaN        S  \n",
       "1      0          PC 17599  71.2833   C85        C  \n",
       "2      0  STON/O2. 3101282   7.9250   NaN        S  \n",
       "3      0            113803  53.1000  C123        S  \n",
       "4      0            373450   8.0500   NaN        S  "
      ]
     },
     "execution_count": 31,
     "metadata": {},
     "output_type": "execute_result"
    }
   ],
   "source": [
    "# passengers.head(5)"
   ]
  },
  {
   "cell_type": "code",
   "execution_count": 32,
   "id": "c9ccafaa-7fe0-4065-bb42-4c3c9151e3a7",
   "metadata": {},
   "outputs": [],
   "source": [
    "# we can try second way for columns with multiple values"
   ]
  },
  {
   "cell_type": "code",
   "execution_count": 33,
   "id": "6d67563f-2965-42a0-a6cb-62b264552c6b",
   "metadata": {},
   "outputs": [],
   "source": [
    "# embarked = pd.get_dummies(passengers.Embarked).iloc[:, 1:]"
   ]
  },
  {
   "cell_type": "code",
   "execution_count": 36,
   "id": "ceec46b2-01ad-41fe-bfa3-a5c9f041f9b3",
   "metadata": {},
   "outputs": [],
   "source": [
    "# pd.concat([passengers, embarked], axis=1)"
   ]
  },
  {
   "cell_type": "markdown",
   "id": "8433b717-6701-4c16-a1bf-4295bd267318",
   "metadata": {},
   "source": [
    "# Passing a frame to get_dummies"
   ]
  },
  {
   "cell_type": "code",
   "execution_count": null,
   "id": "c79850cf-e052-4158-a989-18dbf5df95f6",
   "metadata": {},
   "outputs": [],
   "source": [
    "pd.get_dummies(passengers, columns=[])"
   ]
  }
 ],
 "metadata": {
  "kernelspec": {
   "display_name": "Python 3 (ipykernel)",
   "language": "python",
   "name": "python3"
  },
  "language_info": {
   "codemirror_mode": {
    "name": "ipython",
    "version": 3
   },
   "file_extension": ".py",
   "mimetype": "text/x-python",
   "name": "python",
   "nbconvert_exporter": "python",
   "pygments_lexer": "ipython3",
   "version": "3.10.11"
  }
 },
 "nbformat": 4,
 "nbformat_minor": 5
}
