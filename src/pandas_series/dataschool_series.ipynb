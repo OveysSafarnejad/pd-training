{
 "cells": [
  {
   "cell_type": "code",
   "execution_count": 2,
   "id": "bea035a5-7821-4419-9af2-6a843d71b424",
   "metadata": {},
   "outputs": [],
   "source": [
    "import pandas as pd"
   ]
  },
  {
   "cell_type": "code",
   "execution_count": null,
   "id": "543e7c6f-8fb5-4b90-ac39-9cc8e7eba32e",
   "metadata": {},
   "outputs": [],
   "source": [
    "cols = ['user_id','age','gender', 'occupation', 'postal_code']\n",
    "frame = pd.read_table('resources/u.user', sep='|', header=None,  names=cols)"
   ]
  },
  {
   "cell_type": "code",
   "execution_count": null,
   "id": "0dc166e5-e4fa-4864-8f2d-69f78a8fc325",
   "metadata": {},
   "outputs": [],
   "source": [
    "frame.describe()"
   ]
  },
  {
   "cell_type": "code",
   "execution_count": null,
   "id": "f0d81983-9c04-4f4c-9d8b-231011c72753",
   "metadata": {},
   "outputs": [],
   "source": [
    "frame.dtypes"
   ]
  },
  {
   "cell_type": "code",
   "execution_count": null,
   "id": "a22aba44-2bf5-485e-84c6-fed7076db1d3",
   "metadata": {},
   "outputs": [],
   "source": [
    "frame.describe(include=['object'])"
   ]
  },
  {
   "cell_type": "code",
   "execution_count": null,
   "id": "6ccd7657-442f-465e-b13b-4b173be87b23",
   "metadata": {},
   "outputs": [],
   "source": [
    "\n",
    "frame.rename(columns={\"postal_code\":\"zip_code\"}, inplace=True)"
   ]
  },
  {
   "cell_type": "code",
   "execution_count": null,
   "id": "5471c679-b9db-40d6-b86c-74906c9fd224",
   "metadata": {},
   "outputs": [],
   "source": [
    "frame\n"
   ]
  },
  {
   "cell_type": "code",
   "execution_count": null,
   "id": "cb3a9aae-504b-44a5-bf2f-beac1b7682ac",
   "metadata": {},
   "outputs": [],
   "source": [
    "frame.columns\n"
   ]
  },
  {
   "cell_type": "code",
   "execution_count": null,
   "id": "34be4b7a-9845-4a86-8bc3-e24fb801f7aa",
   "metadata": {},
   "outputs": [],
   "source": [
    "frame.columns = frame.columns.str.replace('_', '-')"
   ]
  },
  {
   "cell_type": "code",
   "execution_count": null,
   "id": "f43e5ad5-64d1-4c68-aa16-f13bfd776e34",
   "metadata": {},
   "outputs": [],
   "source": [
    "frame.columns\n"
   ]
  },
  {
   "cell_type": "code",
   "execution_count": null,
   "id": "10f6378f-0423-4e38-9f2c-f5594b536306",
   "metadata": {},
   "outputs": [],
   "source": [
    "frame2 = frame"
   ]
  },
  {
   "cell_type": "code",
   "execution_count": null,
   "id": "ca19c0d2-07fc-42f2-94af-51d4241ee0e9",
   "metadata": {},
   "outputs": [],
   "source": [
    "frame2.drop(['zip-code'], axis=1)"
   ]
  },
  {
   "cell_type": "code",
   "execution_count": null,
   "id": "4db2812b-ebb9-4152-a3a2-8837c474fa9b",
   "metadata": {},
   "outputs": [],
   "source": [
    "frame2.drop(frame2.index[10:21], axis=0)"
   ]
  },
  {
   "cell_type": "code",
   "execution_count": null,
   "id": "778d78e9-66e1-4e63-aac5-73d1b88f1ba8",
   "metadata": {},
   "outputs": [],
   "source": [
    "frame.head()"
   ]
  },
  {
   "cell_type": "code",
   "execution_count": null,
   "id": "21f74f47-3277-483f-8942-54f6235e972f",
   "metadata": {},
   "outputs": [],
   "source": [
    "frame.age.sort_values()"
   ]
  },
  {
   "cell_type": "code",
   "execution_count": null,
   "id": "9b7c7258-4af9-4cdf-bd4f-aa163d4f7611",
   "metadata": {},
   "outputs": [],
   "source": [
    "frame.age.sort_values(ascending=False)"
   ]
  },
  {
   "cell_type": "code",
   "execution_count": null,
   "id": "0e7a3a37-36a6-4a04-b519-7d7ba7b5ca2a",
   "metadata": {},
   "outputs": [],
   "source": [
    "frame.sort_values('age')"
   ]
  },
  {
   "cell_type": "code",
   "execution_count": null,
   "id": "153b151f-fb6b-401a-9536-12c2c8ea7f9b",
   "metadata": {},
   "outputs": [],
   "source": [
    " frame.sort_values(['age', 'postal_code'])"
   ]
  },
  {
   "cell_type": "code",
   "execution_count": null,
   "id": "5763758f-1a87-4cd5-9fd3-fdb91866c63f",
   "metadata": {},
   "outputs": [],
   "source": [
    "frame.loc[frame.occupation.isin(['student', 'librarian'])]"
   ]
  },
  {
   "cell_type": "code",
   "execution_count": null,
   "id": "0c1b8e1d-c94e-43dd-a35d-021cd332e98e",
   "metadata": {},
   "outputs": [],
   "source": [
    "# frame_with_ignored_cols = pd.read_csv('path_to_csv.file', usecols=[<indexes> | <col_names>])"
   ]
  },
  {
   "cell_type": "code",
   "execution_count": null,
   "id": "b7c5a210-8a15-4b2b-a573-58bf6f332fad",
   "metadata": {},
   "outputs": [],
   "source": [
    "# frame_with_slice_rows = pd.read_csv('path_to_csv.file', nrows=3)"
   ]
  },
  {
   "cell_type": "code",
   "execution_count": null,
   "id": "d063567b-5220-4630-b554-ec3eb06236f7",
   "metadata": {},
   "outputs": [],
   "source": [
    "drinks = pd.read_csv('resources/drinks.csv')"
   ]
  },
  {
   "cell_type": "code",
   "execution_count": null,
   "id": "d1ead062-227b-4e82-ad34-9f03913b4a80",
   "metadata": {},
   "outputs": [],
   "source": [
    "drinks.dtypes"
   ]
  },
  {
   "cell_type": "code",
   "execution_count": null,
   "id": "8a65981c-8bf9-4733-bc0e-f4d786631e97",
   "metadata": {},
   "outputs": [],
   "source": [
    "import numpy as np\n",
    "drinks.select_dtypes(include=[np.number])"
   ]
  },
  {
   "cell_type": "code",
   "execution_count": null,
   "id": "1bc37c02-8a3e-452f-a42c-6f343635b807",
   "metadata": {},
   "outputs": [],
   "source": [
    "drinks.describe(include=['int64'])"
   ]
  },
  {
   "cell_type": "code",
   "execution_count": null,
   "id": "dd5b893b-86a4-4e15-8e78-a8ffdb166adc",
   "metadata": {},
   "outputs": [],
   "source": [
    "drinks.drop(columns=['country', 'continent']).mean(axis='rows') # .mean(axis=0) 0=rows"
   ]
  },
  {
   "cell_type": "code",
   "execution_count": null,
   "id": "184663e1-8a39-4baf-bbcf-a73e2effd2d5",
   "metadata": {},
   "outputs": [],
   "source": [
    "drinks.drop(columns=['country', 'continent']).mean(axis='columns') # .mean(axis=1) 1=columns"
   ]
  },
  {
   "cell_type": "code",
   "execution_count": null,
   "id": "19c760eb-07f1-47ad-9ef6-007761ce7e3f",
   "metadata": {},
   "outputs": [],
   "source": [
    "drinks"
   ]
  },
  {
   "cell_type": "code",
   "execution_count": null,
   "id": "e2342602-7e28-4d6b-8c93-d590d580b784",
   "metadata": {},
   "outputs": [],
   "source": [
    "drinks['beer_servings'] = drinks.beer_servings.astype(float)"
   ]
  },
  {
   "cell_type": "code",
   "execution_count": null,
   "id": "f7a75146-c2ef-4b30-a7fc-5d89fab0ae81",
   "metadata": {},
   "outputs": [],
   "source": [
    "drinks\n"
   ]
  },
  {
   "cell_type": "code",
   "execution_count": null,
   "id": "835a367d-44cc-4b69-a728-51dc5bfafd62",
   "metadata": {},
   "outputs": [],
   "source": [
    "drinks = pd.read_csv('resources/drinks.csv', dtype={'country':str,'beer_servings':float})"
   ]
  },
  {
   "cell_type": "code",
   "execution_count": null,
   "id": "2b7ecc60-a884-44cf-9c00-aa603f780d14",
   "metadata": {},
   "outputs": [],
   "source": [
    "drinks.dtypes"
   ]
  },
  {
   "cell_type": "code",
   "execution_count": null,
   "id": "2e0a900b-5e85-49fe-8402-3d2c6d48f304",
   "metadata": {},
   "outputs": [],
   "source": [
    "orders = pd.read_table('resources/chipotle.tsv')"
   ]
  },
  {
   "cell_type": "code",
   "execution_count": null,
   "id": "268c04ef-405e-4813-82bd-1f850a541b0a",
   "metadata": {},
   "outputs": [],
   "source": [
    "orders"
   ]
  },
  {
   "cell_type": "code",
   "execution_count": null,
   "id": "33042bdb-2a29-4ca8-ac4f-a21d0ef9d0e1",
   "metadata": {},
   "outputs": [],
   "source": [
    "orders['item_price'] = orders.item_price.str.replace(\"$\", \"\")"
   ]
  },
  {
   "cell_type": "code",
   "execution_count": null,
   "id": "81ab7335-7b2a-46a3-9a55-63c8119bc287",
   "metadata": {},
   "outputs": [],
   "source": [
    "orders['item_price'] = orders.item_price.astype(float)"
   ]
  },
  {
   "cell_type": "code",
   "execution_count": null,
   "id": "62af4a41-14eb-4cca-b9af-308d97e7f0c2",
   "metadata": {},
   "outputs": [],
   "source": [
    "orders.item_price.mean()"
   ]
  },
  {
   "cell_type": "code",
   "execution_count": null,
   "id": "ab247e64-df8c-4fcc-b64a-87ed6f7db568",
   "metadata": {},
   "outputs": [],
   "source": [
    "drinks.groupby('continent').beer_servings.mean()"
   ]
  },
  {
   "cell_type": "code",
   "execution_count": null,
   "id": "2a5abbd3-503b-4a5e-ba87-3070cb0ad5d6",
   "metadata": {},
   "outputs": [],
   "source": [
    "drinks.loc[drinks['continent'] == 'Africa'].beer_servings.mean()"
   ]
  },
  {
   "cell_type": "code",
   "execution_count": null,
   "id": "752c2e07-0095-4801-87a5-92835625b5e7",
   "metadata": {},
   "outputs": [],
   "source": [
    "drinks.loc[drinks.continent == \"Africa\"].beer_servings.agg(['max','min'])"
   ]
  },
  {
   "cell_type": "code",
   "execution_count": null,
   "id": "b6f7200f-55eb-453c-b7cb-5c4b23221e0b",
   "metadata": {},
   "outputs": [],
   "source": [
    "drinks.groupby('continent').beer_servings.agg(['max','min'])\n"
   ]
  },
  {
   "cell_type": "code",
   "execution_count": null,
   "id": "38f970e5-eb97-41c6-bdf8-7b95892d61f8",
   "metadata": {},
   "outputs": [],
   "source": [
    "drinks_numerics =  drinks.drop(columns=['country'])\n",
    "drinks_numerics.groupby('continent').mean()\n"
   ]
  },
  {
   "cell_type": "code",
   "execution_count": null,
   "id": "7a4e387d-5428-4f27-bd48-13f3eebcff70",
   "metadata": {},
   "outputs": [],
   "source": [
    "%matplotlib inline"
   ]
  },
  {
   "cell_type": "code",
   "execution_count": null,
   "id": "83d17fd1-356c-4b4f-a566-48752b94f5d4",
   "metadata": {},
   "outputs": [],
   "source": [
    "drinks_numerics.groupby('continent').mean().plot(kind='bar')"
   ]
  },
  {
   "cell_type": "code",
   "execution_count": null,
   "id": "a21a8c6a-43e6-42f5-8c3d-f48484c48a75",
   "metadata": {},
   "outputs": [],
   "source": [
    "drinks.continent.describe()"
   ]
  },
  {
   "cell_type": "code",
   "execution_count": null,
   "id": "52f989e3-61ab-45c7-99f3-4ca78c09dafd",
   "metadata": {},
   "outputs": [],
   "source": [
    "drinks.continent.describe().unique"
   ]
  },
  {
   "cell_type": "code",
   "execution_count": null,
   "id": "758e3c58-1e5a-417a-88db-728c5a5434f8",
   "metadata": {},
   "outputs": [],
   "source": [
    "drinks.describe()"
   ]
  },
  {
   "cell_type": "code",
   "execution_count": null,
   "id": "16ac796b-b47d-4129-8b15-c33847c40c65",
   "metadata": {},
   "outputs": [],
   "source": [
    "drinks.continent.value_counts()"
   ]
  },
  {
   "cell_type": "code",
   "execution_count": null,
   "id": "304972c9-bcb4-49db-bccf-b82519d156e6",
   "metadata": {},
   "outputs": [],
   "source": [
    "drinks.continent.value_counts(normalize=True)"
   ]
  },
  {
   "cell_type": "code",
   "execution_count": null,
   "id": "9453aab7-8152-478e-80ee-f84e685474e0",
   "metadata": {},
   "outputs": [],
   "source": [
    "drinks.continent.unique()"
   ]
  },
  {
   "cell_type": "code",
   "execution_count": null,
   "id": "4d91c0d9-58bc-4c4a-89e6-c89c65ba0509",
   "metadata": {},
   "outputs": [],
   "source": [
    "drinks.continent.nunique()"
   ]
  },
  {
   "cell_type": "code",
   "execution_count": null,
   "id": "6567038b-437c-4a42-a3eb-91c9d06c0b47",
   "metadata": {},
   "outputs": [],
   "source": [
    "pd.crosstab(drinks.continent, drinks.country)"
   ]
  },
  {
   "cell_type": "code",
   "execution_count": null,
   "id": "fca5ea6f-b2c1-4bd1-930f-8f1d6ada71f1",
   "metadata": {},
   "outputs": [],
   "source": [
    "drinks"
   ]
  },
  {
   "cell_type": "code",
   "execution_count": null,
   "id": "5f28b14a-21c4-4996-9eb1-b5a922d2c78f",
   "metadata": {},
   "outputs": [],
   "source": [
    "drinks.beer_servings.describe()"
   ]
  },
  {
   "cell_type": "code",
   "execution_count": null,
   "id": "b225c980-57c1-453c-8aaa-313ce032cd9a",
   "metadata": {},
   "outputs": [],
   "source": [
    "%matplotlib inline"
   ]
  },
  {
   "cell_type": "code",
   "execution_count": null,
   "id": "4acce400-2939-41be-87c7-a516eff3784c",
   "metadata": {},
   "outputs": [],
   "source": [
    "drinks.continent.value_counts().plot(kind='bar')"
   ]
  },
  {
   "cell_type": "code",
   "execution_count": null,
   "id": "7ae64117-29ba-4f5f-8685-912dbd8305a1",
   "metadata": {},
   "outputs": [],
   "source": [
    "drinks.beer_servings.plot(kind='hist')"
   ]
  },
  {
   "cell_type": "markdown",
   "id": "9c67df89-93e2-4ecd-856a-8cc6d622a527",
   "metadata": {},
   "source": [
    "# HANDLING MISSING VALUES\n"
   ]
  },
  {
   "cell_type": "code",
   "execution_count": null,
   "id": "83a88e59-26be-4ac3-9f63-3e931fe0c406",
   "metadata": {},
   "outputs": [],
   "source": [
    "ufo = pd.read_csv('resources/ufo.csv')\n"
   ]
  },
  {
   "cell_type": "code",
   "execution_count": null,
   "id": "ce58bebe-01ca-498d-8c8b-1033e3ebb481",
   "metadata": {},
   "outputs": [],
   "source": [
    "ufo.isnull().tail()"
   ]
  },
  {
   "cell_type": "code",
   "execution_count": null,
   "id": "f2c0f57b-6805-4f2b-9d82-36e8fc9a5926",
   "metadata": {},
   "outputs": [],
   "source": [
    "ufo.notnull().tail()"
   ]
  },
  {
   "cell_type": "code",
   "execution_count": null,
   "id": "38f8b4d4-c984-4675-a7b0-ecdb90505ed7",
   "metadata": {},
   "outputs": [],
   "source": [
    "ufo.isnull().sum()"
   ]
  },
  {
   "cell_type": "code",
   "execution_count": null,
   "id": "98b9ee88-b885-4646-8f38-11c20eda4ddf",
   "metadata": {},
   "outputs": [],
   "source": [
    "\n",
    "ufo.loc[ufo.City.isnull()]"
   ]
  },
  {
   "cell_type": "code",
   "execution_count": null,
   "id": "2716e881-bd31-4d56-a50e-78bc6781d87f",
   "metadata": {},
   "outputs": [],
   "source": [
    "ufo.dropna(how='any')"
   ]
  },
  {
   "cell_type": "code",
   "execution_count": null,
   "id": "da699d76-22b5-49c5-a3af-8a47cdf05b2d",
   "metadata": {},
   "outputs": [],
   "source": [
    "ufo.dropna(how='all')"
   ]
  },
  {
   "cell_type": "code",
   "execution_count": null,
   "id": "f0e78199-ce1a-40f1-945b-a4180469252a",
   "metadata": {},
   "outputs": [],
   "source": [
    "ufo.dropna(subset=['City', 'Shape Reported'], how='all') "
   ]
  },
  {
   "cell_type": "code",
   "execution_count": null,
   "id": "939d14b3-98ca-43a4-9274-a04ac6caa428",
   "metadata": {},
   "outputs": [],
   "source": [
    "ufo['Shape Reported'].value_counts(dropna=False)"
   ]
  },
  {
   "cell_type": "markdown",
   "id": "0928a31f-9dd5-4ffc-81b7-b0658c4cfb29",
   "metadata": {},
   "source": [
    "# Replacing Missing Values"
   ]
  },
  {
   "cell_type": "code",
   "execution_count": 101,
   "id": "1674f7c5-e4fa-4694-85c3-2cbd07f81a38",
   "metadata": {},
   "outputs": [
    {
     "data": {
      "text/plain": [
       "['LIGHT',\n",
       " 'DISK',\n",
       " 'TRIANGLE',\n",
       " 'OTHER',\n",
       " 'CIRCLE',\n",
       " 'SPHERE',\n",
       " 'FIREBALL',\n",
       " 'OVAL',\n",
       " 'CIGAR',\n",
       " 'FORMATION',\n",
       " 'VARIOUS',\n",
       " 'RECTANGLE',\n",
       " 'CYLINDER',\n",
       " 'CHEVRON',\n",
       " 'DIAMOND',\n",
       " 'EGG',\n",
       " 'FLASH',\n",
       " 'TEARDROP',\n",
       " 'CONE',\n",
       " 'CROSS',\n",
       " 'DELTA',\n",
       " 'ROUND',\n",
       " 'CRESCENT',\n",
       " 'DOME',\n",
       " 'PYRAMID',\n",
       " 'FLARE',\n",
       " 'HEXAGON']"
      ]
     },
     "execution_count": 101,
     "metadata": {},
     "output_type": "execute_result"
    }
   ],
   "source": [
    "import pandas as pd\n",
    "ufo = pd.read_csv('resources/ufo.csv')\n",
    "\n",
    "percentages = ufo['Shape Reported'].value_counts(normalize=True)\n",
    "percentages.index.tolist()\n",
    "# import random\n",
    "# def guess_shape():\n",
    "#     return random.choices(percentages.index.tolist(), weights=percentages.tolist(), k=1)[0]\n",
    "\n",
    "\n"
   ]
  },
  {
   "cell_type": "code",
   "execution_count": 94,
   "id": "63ed8dcc-1af5-482f-8e15-c9c94e1532ab",
   "metadata": {},
   "outputs": [
    {
     "data": {
      "text/plain": [
       "Shape Reported\n",
       "LIGHT        0.179714\n",
       "DISK         0.136052\n",
       "TRIANGLE     0.121113\n",
       "OTHER        0.089889\n",
       "CIRCLE       0.087517\n",
       "SPHERE       0.067577\n",
       "FIREBALL     0.066615\n",
       "OVAL         0.054177\n",
       "CIGAR        0.039559\n",
       "FORMATION    0.027826\n",
       "VARIOUS      0.021350\n",
       "RECTANGLE    0.019427\n",
       "CYLINDER     0.018850\n",
       "CHEVRON      0.015900\n",
       "DIAMOND      0.015003\n",
       "EGG          0.012631\n",
       "FLASH        0.012054\n",
       "TEARDROP     0.007630\n",
       "CONE         0.003847\n",
       "CROSS        0.002308\n",
       "DELTA        0.000449\n",
       "ROUND        0.000128\n",
       "CRESCENT     0.000128\n",
       "DOME         0.000064\n",
       "PYRAMID      0.000064\n",
       "FLARE        0.000064\n",
       "HEXAGON      0.000064\n",
       "Name: proportion, dtype: float64"
      ]
     },
     "execution_count": 94,
     "metadata": {},
     "output_type": "execute_result"
    }
   ],
   "source": [
    "ufo['Shape Reported'].value_counts(normalize=True, dropna=True)"
   ]
  },
  {
   "cell_type": "code",
   "execution_count": 95,
   "id": "910b891a-a2e6-4d05-9778-18660c95e88e",
   "metadata": {},
   "outputs": [],
   "source": [
    "ufo['Shape Reported'].fillna(value=guess_shape(), inplace=True)"
   ]
  },
  {
   "cell_type": "code",
   "execution_count": 96,
   "id": "c2f4e436-386b-402f-8751-6bed3dac3389",
   "metadata": {},
   "outputs": [
    {
     "data": {
      "text/plain": [
       "Shape Reported\n",
       "CIRCLE       0.219780\n",
       "LIGHT        0.153665\n",
       "DISK         0.116331\n",
       "TRIANGLE     0.103558\n",
       "OTHER        0.076860\n",
       "SPHERE       0.057782\n",
       "FIREBALL     0.056960\n",
       "OVAL         0.046324\n",
       "CIGAR        0.033825\n",
       "FORMATION    0.023793\n",
       "VARIOUS      0.018256\n",
       "RECTANGLE    0.016611\n",
       "CYLINDER     0.016118\n",
       "CHEVRON      0.013596\n",
       "DIAMOND      0.012828\n",
       "EGG          0.010800\n",
       "FLASH        0.010306\n",
       "TEARDROP     0.006524\n",
       "CONE         0.003289\n",
       "CROSS        0.001974\n",
       "DELTA        0.000384\n",
       "ROUND        0.000110\n",
       "CRESCENT     0.000110\n",
       "DOME         0.000055\n",
       "PYRAMID      0.000055\n",
       "FLARE        0.000055\n",
       "HEXAGON      0.000055\n",
       "Name: proportion, dtype: float64"
      ]
     },
     "execution_count": 96,
     "metadata": {},
     "output_type": "execute_result"
    }
   ],
   "source": [
    "ufo['Shape Reported'].value_counts(normalize=True, dropna=True)"
   ]
  },
  {
   "cell_type": "markdown",
   "id": "d5733377-6bbe-460a-a743-ef1ab0a52341",
   "metadata": {},
   "source": [
    "# Indexing application in dataframes:\n",
    "1. Identification (each row has a sticky identifier)\n",
    "2. Selection (using loc function)\n",
    "3. Allignment (mix to dataseries our dataframes together even if they doont have equal length and it matches by indexes)"
   ]
  },
  {
   "cell_type": "code",
   "execution_count": 8,
   "id": "c30e202e-4912-49b3-99bc-04a1ab3464eb",
   "metadata": {},
   "outputs": [
    {
     "data": {
      "text/plain": [
       "Chips     227000.0\n",
       "Pastil    447000.0\n",
       "Pofak          NaN\n",
       "dtype: float64"
      ]
     },
     "execution_count": 8,
     "metadata": {},
     "output_type": "execute_result"
    }
   ],
   "source": [
    "# Alignment example\n",
    "serie_1 = pd.Series([1000, 2000, 3000], index=[\"Chips\", \"Pofak\", \"Pastil\"], name=\"HaleHoole\")\n",
    "serie_2 = pd.Series([227, 149], index=[\"Chips\", \"Pastil\"], name=\"HaleHoole_tedad\")\n",
    "serie_1 * serie_2\n"
   ]
  },
  {
   "cell_type": "code",
   "execution_count": 9,
   "id": "ab55d1f9-2533-48f8-a62d-e3b482b58168",
   "metadata": {},
   "outputs": [
    {
     "data": {
      "text/html": [
       "<div>\n",
       "<style scoped>\n",
       "    .dataframe tbody tr th:only-of-type {\n",
       "        vertical-align: middle;\n",
       "    }\n",
       "\n",
       "    .dataframe tbody tr th {\n",
       "        vertical-align: top;\n",
       "    }\n",
       "\n",
       "    .dataframe thead th {\n",
       "        text-align: right;\n",
       "    }\n",
       "</style>\n",
       "<table border=\"1\" class=\"dataframe\">\n",
       "  <thead>\n",
       "    <tr style=\"text-align: right;\">\n",
       "      <th></th>\n",
       "      <th>HaleHoole</th>\n",
       "      <th>HaleHoole_tedad</th>\n",
       "    </tr>\n",
       "  </thead>\n",
       "  <tbody>\n",
       "    <tr>\n",
       "      <th>Chips</th>\n",
       "      <td>1000</td>\n",
       "      <td>227.0</td>\n",
       "    </tr>\n",
       "    <tr>\n",
       "      <th>Pofak</th>\n",
       "      <td>2000</td>\n",
       "      <td>NaN</td>\n",
       "    </tr>\n",
       "    <tr>\n",
       "      <th>Pastil</th>\n",
       "      <td>3000</td>\n",
       "      <td>149.0</td>\n",
       "    </tr>\n",
       "  </tbody>\n",
       "</table>\n",
       "</div>"
      ],
      "text/plain": [
       "        HaleHoole  HaleHoole_tedad\n",
       "Chips        1000            227.0\n",
       "Pofak        2000              NaN\n",
       "Pastil       3000            149.0"
      ]
     },
     "execution_count": 9,
     "metadata": {},
     "output_type": "execute_result"
    }
   ],
   "source": [
    "# or another example for allignment:\n",
    "\n",
    "pd.concat([serie_1, serie_2], axis = 'columns')"
   ]
  },
  {
   "cell_type": "code",
   "execution_count": null,
   "id": "00dede69-133a-4383-b724-9b8d199cfa73",
   "metadata": {},
   "outputs": [],
   "source": []
  }
 ],
 "metadata": {
  "kernelspec": {
   "display_name": "Python 3 (ipykernel)",
   "language": "python",
   "name": "python3"
  },
  "language_info": {
   "codemirror_mode": {
    "name": "ipython",
    "version": 3
   },
   "file_extension": ".py",
   "mimetype": "text/x-python",
   "name": "python",
   "nbconvert_exporter": "python",
   "pygments_lexer": "ipython3",
   "version": "3.10.11"
  }
 },
 "nbformat": 4,
 "nbformat_minor": 5
}
