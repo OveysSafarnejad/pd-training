{
 "cells": [
  {
   "cell_type": "code",
   "execution_count": 2,
   "id": "8fa90266-22a1-44b9-b3b3-335de5345320",
   "metadata": {},
   "outputs": [
    {
     "data": {
      "text/plain": [
       "PosixPath('/Users/audioworkstation/Documents/WORKSPACE/LEARNING/pd-training/src/pandas_series')"
      ]
     },
     "execution_count": 2,
     "metadata": {},
     "output_type": "execute_result"
    }
   ],
   "source": [
    "import pandas as pd\n",
    "from pathlib import Path\n",
    "Path.cwd()"
   ]
  },
  {
   "cell_type": "code",
   "execution_count": 77,
   "id": "6bc1be90-07a0-48c9-b0e9-8d366ab885e8",
   "metadata": {},
   "outputs": [],
   "source": [
    "frame = pd.read_csv('resources/survey_results_public.csv', index_col=\"Respondent\")\n",
    "pd.set_option('display.max_columns', 85)\n"
   ]
  },
  {
   "cell_type": "code",
   "execution_count": 27,
   "id": "cb1df89f-15e2-482e-a095-b1f9bbdb1b91",
   "metadata": {},
   "outputs": [],
   "source": [
    "# frame.shape\n",
    "# frame.info()\n",
    "# frame.head(1)"
   ]
  },
  {
   "cell_type": "code",
   "execution_count": 29,
   "id": "21f21d0a-c10e-4a99-a174-57c3f9791764",
   "metadata": {},
   "outputs": [],
   "source": [
    "schema_frame = pd.read_csv('resources/survey_results_schema.csv', index_col=\"Column\")\n",
    "pd.set_option('display.max_rows', 85)"
   ]
  },
  {
   "cell_type": "code",
   "execution_count": 121,
   "id": "b68736a1-e92e-432f-b34f-d69d9ec256ab",
   "metadata": {},
   "outputs": [],
   "source": [
    "schema_frame.shape\n",
    "schema_frame.info()\n",
    "schema_frame.head()"
   ]
  },
  {
   "cell_type": "code",
   "execution_count": 122,
   "id": "9e9b05ee-1e62-4456-87f7-ee753191319e",
   "metadata": {},
   "outputs": [],
   "source": [
    "# Now we can search on `Column` column with loc function, because the default index is changed.\n",
    "# (first parameter is for row filter aand second one is for column name)\n",
    "schema_frame.loc[\"Respondent\", \"QuestionText\"] "
   ]
  },
  {
   "cell_type": "code",
   "execution_count": null,
   "id": "5d5b975f-f90a-4e55-a12c-aa333a274f59",
   "metadata": {},
   "outputs": [],
   "source": [
    "# What is a dataframe?\n",
    "# They are a simple schema over a table with concists of rows and columns\n",
    "# It is also something like a dictionary with list items BUT with a large number of added functionalities.\n",
    "# DataFrames are rows and columns and Series are the rows of the columns."
   ]
  },
  {
   "cell_type": "code",
   "execution_count": null,
   "id": "f8eb0947-9a10-45b2-a61e-152b19310fb1",
   "metadata": {},
   "outputs": [],
   "source": [
    "frame[[\"Respondent\", \"Hobbyist\"]]"
   ]
  },
  {
   "cell_type": "code",
   "execution_count": null,
   "id": "c3f7c3f2-f5b1-4355-af90-a5454f8b2cae",
   "metadata": {},
   "outputs": [],
   "source": [
    "frame.iloc[1000:1010] # Integer location of a row"
   ]
  },
  {
   "cell_type": "code",
   "execution_count": null,
   "id": "d2d46695-fcdf-46a5-be89-f8eb3c01cc27",
   "metadata": {},
   "outputs": [],
   "source": [
    "frame.iloc[[1000,1001, 1002], [1,2]] # Integer location of the rows and special columns"
   ]
  },
  {
   "cell_type": "code",
   "execution_count": null,
   "id": "daa29df8-9e8b-46b1-bbb2-9c1c167c8cf0",
   "metadata": {},
   "outputs": [],
   "source": [
    "frame.loc[1000:1005, [\"MainBranch\",\"Hobbyist\"]] # Integer location (as deafault indexes) of the rows and special columns using loc"
   ]
  },
  {
   "cell_type": "code",
   "execution_count": null,
   "id": "4e7b6d8f-037d-4535-b16c-054e1ae1a26a",
   "metadata": {},
   "outputs": [],
   "source": [
    "frame[\"Hobbyist\"].value_counts()"
   ]
  },
  {
   "cell_type": "code",
   "execution_count": null,
   "id": "f59b0df4-e7db-4422-838a-2c4af4abb667",
   "metadata": {},
   "outputs": [],
   "source": [
    "frame.loc[1000:1005, \"MainBranch\":\"Country\"] # Define column range"
   ]
  },
  {
   "cell_type": "code",
   "execution_count": 40,
   "id": "59ed59dc-5327-46bd-9f9f-9bd6bb7a0ab5",
   "metadata": {},
   "outputs": [],
   "source": [
    "# Indexes are not forced to be unique for pandas\n",
    "# But it would have better performance if we create it on unique columns\n",
    "# Indexes are labels for rows\n",
    "# frame.set_index(\"Respondent\", inplace=True) # With inplace=True set the current index as a default index\n",
    "# frame.index\n",
    "# frame\n",
    "# frame.loc[1] # Now it is using `Respondent` columns as index and search in this column for value `1`\n",
    "# frame.reset_index(inplace=True)\n",
    "# schema_frame.sort_index(ascending=False, inplace=True) # inplace=True makes this descending order for index permanent"
   ]
  },
  {
   "cell_type": "code",
   "execution_count": 123,
   "id": "e2dd2e88-74c2-48f8-bf89-b58da9043764",
   "metadata": {},
   "outputs": [],
   "source": [
    "countries_filter = frame[\"Country\"].isin([\"United States\", \"Iran\", \"Germany\"])\n",
    "age_filter = frame[\"Age1stCode\"] == \"29\"\n",
    "pythonist_filter = frame[\"LanguageWorkedWith\"].str.contains(\"Python\", na=False) == True # na=False means exclude rows with NaN from filtering to avoid exceptions\n",
    "# frame[countries_filter & age_filter & pythonist_filter]\n",
    "filtered = frame.loc[\n",
    "    countries_filter & age_filter & pythonist_filter,\n",
    "    (\"LanguageWorkedWith\", \"Student\", \"Age\", \"Country\")\n",
    "] # Preferred way\n",
    "\n",
    "# filtered.shape, filtered.size, len(filtered)\n",
    "filtered "
   ]
  },
  {
   "cell_type": "code",
   "execution_count": 131,
   "id": "23ee9b5c-abdd-43b1-81fe-2c1345e7924e",
   "metadata": {},
   "outputs": [],
   "source": [
    "frame.columns = [column.upper() for column in frame.columns]\n",
    "frame.columns = frame.columns.str.replace(' ', '_')\n",
    "frame.rename(\n",
    "    columns={\n",
    "        \"old_column_name\": \"new_name\",\n",
    "        \"OPENSOURCER\": \"open_sourcer\"\n",
    "    },\n",
    "    inplace=True # inplace=True for applying permanently\n",
    ")"
   ]
  },
  {
   "cell_type": "code",
   "execution_count": 134,
   "id": "8636bfea-a3e7-4bb3-99b0-c2176fcc6f1d",
   "metadata": {},
   "outputs": [],
   "source": [
    "frame.loc[1, (\"HOBBYIST\", \"open_sourcer\")] = [\"No\", \"Less than once per year\"] # in this way we don't need to pass all the repetitive values and can just set changes."
   ]
  },
  {
   "cell_type": "code",
   "execution_count": 136,
   "id": "7520918f-f5f1-4013-8162-fa731ad27f36",
   "metadata": {},
   "outputs": [],
   "source": [
    "frame.at[1, \"HOBBYIST\"] = \"Yes\""
   ]
  },
  {
   "cell_type": "code",
   "execution_count": 26,
   "id": "8f59379b-74cf-42b8-9e1f-4234bcd01e05",
   "metadata": {},
   "outputs": [],
   "source": [
    "# frame.loc[\n",
    "#     (frame[\"COUNTRY\"] == \"United Kingdom\") & (frame[\"DEVENVIRON\"] == \"IntelliJ;Notepad++;PyCharm\"), # filtering rows\n",
    "#     \"WEBFRAMEDESIRENEXTYEAR\" # columns to be updated\n",
    "# ] = \"FLASK2\"\n",
    "# frame[frame[\"WEBFRAMEDESIRENEXTYEAR\"] == \"FLASK2\"]"
   ]
  },
  {
   "cell_type": "code",
   "execution_count": 25,
   "id": "25d0167f-516f-48f9-80ef-5f0060b76279",
   "metadata": {},
   "outputs": [],
   "source": [
    "# apply: applies on series and also dataframes\n",
    "# frame[\"ITPERSON\"].apply(lambda x: x * 1)\n",
    "# frame.apply(len , axis = \"columns\") # it will apply on each series of frame by default(axis='rows')\n",
    "# frame.apply(pd.Series.min) # min value of each columns if all values in a columns are of the same type\n",
    "\n",
    "# map: applies only on a series and substitue any value in a series with a new value\n",
    "# '''\n",
    "# in here every `Windows` in OPSYS column will be replaced with `Microsoft` but the unmentioned one will be NaN \n",
    "# and if we want to ignore unmentioned one we can use replace instead of map function\n",
    "# '''\n",
    "# frame[\"OPSYS\"].map({\"Windows\": \"Microsoft\"})\n",
    "\n",
    "# applymap : applies a function to any individual item in the dataframe (Just for fataframes not for series)\n",
    "# frame.applymap(lambda x: x)\n",
    "# frame.applymap(str.lower)\n",
    "\n",
    "# replace\n",
    "# frame[\"OPSYS\"].replace({\"Windows\": \"Microsoft\"})"
   ]
  },
  {
   "cell_type": "code",
   "execution_count": 28,
   "id": "a814781c-edad-4721-aa26-ba6c30d7fe40",
   "metadata": {},
   "outputs": [],
   "source": [
    "# ADDING AND REMOVING COLUMNS:\n",
    "\n",
    "# frame[\"calculated_age\"] = frame[\"Age1stCode\"] + ' ' + frame[\"YearsCode\"] \n",
    "# frame.drop(columns=[\"calculated_age\"], inplace=True) # to apply inline\n",
    "# splited = frame[\"calculated_age\"].str.split(' ', expand=True) # this does not work well because of NaN values\n",
    "# frame[[\"first\", \"second\"]] = splited"
   ]
  },
  {
   "cell_type": "code",
   "execution_count": 68,
   "id": "93ffc5c9-e5d6-4bc5-87f0-47d3ce4e341b",
   "metadata": {},
   "outputs": [],
   "source": [
    "# ADDING AND REMOVING ROWS:\n",
    "# schema_frame.append({\"QuestionText\": \"TEST\"}, ignore_index=True) # This method is deprecated in pandas\n",
    "# schema_frame = pd.read_csv('resources/survey_results_schema.csv')\n",
    "# data = {\n",
    "#     \"Column\": [\"new_column\"],\n",
    "#     \"QuestionText\": [\"Is this a new question?\"]\n",
    "# }\n",
    "# appending_df = pd.DataFrame(data)\n",
    "# schema_frame.append(appending_df, ignore_index=True, sorted=False) # This does not work also\n",
    "\n",
    "# df3 = pd.concat([schema_frame, appending_df], ignore_index = True)\n",
    "# df3.reset_index()\n",
    "# schema_frame.loc[len(schema_frame.index)] = [\"New Columns\", \"New Question\"]\n",
    "\n",
    "# Remove using index\n",
    "# schema_frame.drop(index=85 , inplace=True)\n",
    "# schema_frame\n",
    "\n",
    "# Remove using filters\n",
    "# filt = schema_frame[\"Column\"] == \"New Columns\"\n",
    "# schema_frame.drop(index=schema_frame[filt].index,  inplace=True)\n",
    "\n",
    "# schema_frame\n"
   ]
  },
  {
   "cell_type": "code",
   "execution_count": 76,
   "id": "e65ed317-af85-4351-92a4-3ee3c70c3f66",
   "metadata": {},
   "outputs": [],
   "source": [
    "# schema_frame.sort_values(by=[\"Column\"], ascending=False)\n",
    "# schema_frame.sort_values(by=[\"Column\", \"QuestionText\"], ascending=False) # sort based on `Column` and then `QuestionText` descending\n",
    "# schema_frame.sort_values(by=[\"Column\", \"QuestionText\"], ascending=[True, False]) # sort based on `Column` ascending and then `QuestionText` descending\n",
    "# schema_frame.sort_index() # to revert every sortings  has applied"
   ]
  },
  {
   "cell_type": "code",
   "execution_count": 82,
   "id": "57dd2380-5cc6-4b65-af3a-3ea00682e9fc",
   "metadata": {},
   "outputs": [],
   "source": [
    "# frame.sort_values(by=[\"Country\", \"ConvertedComp\"], ascending=[True, False], inplace=True)\n",
    "# frame[[\"Country\", \"ConvertedComp\"]].head(100)\n"
   ]
  },
  {
   "cell_type": "code",
   "execution_count": 85,
   "id": "6e48d468-1eb8-400d-83bf-242ba69fa6fa",
   "metadata": {},
   "outputs": [],
   "source": [
    "# frame[\"ConvertedComp\"].nlargest(10) # to see n largest salaries\n",
    "# frame.nlargest(10, \"ConvertedComp\") # to see 10 rows with highest salaries \n"
   ]
  },
  {
   "cell_type": "code",
   "execution_count": null,
   "id": "31bdf1a5-2138-4c8d-85fa-528c4a98d87b",
   "metadata": {},
   "outputs": [],
   "source": []
  }
 ],
 "metadata": {
  "kernelspec": {
   "display_name": "Python 3 (ipykernel)",
   "language": "python",
   "name": "python3"
  },
  "language_info": {
   "codemirror_mode": {
    "name": "ipython",
    "version": 3
   },
   "file_extension": ".py",
   "mimetype": "text/x-python",
   "name": "python",
   "nbconvert_exporter": "python",
   "pygments_lexer": "ipython3",
   "version": "3.10.11"
  }
 },
 "nbformat": 4,
 "nbformat_minor": 5
}
