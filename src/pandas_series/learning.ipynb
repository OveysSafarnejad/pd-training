{
 "cells": [
  {
   "cell_type": "code",
   "execution_count": 23,
   "id": "8fa90266-22a1-44b9-b3b3-335de5345320",
   "metadata": {},
   "outputs": [],
   "source": [
    "import pandas as pd\n",
    "from pathlib import Path\n",
    "Path.cwd()"
   ]
  },
  {
   "cell_type": "code",
   "execution_count": 26,
   "id": "6bc1be90-07a0-48c9-b0e9-8d366ab885e8",
   "metadata": {},
   "outputs": [],
   "source": [
    "frame = pd.read_csv('resources/survey_results_public.csv', index_col=\"Respondent\")\n",
    "pd.set_option('display.max_columns', 85)\n"
   ]
  },
  {
   "cell_type": "code",
   "execution_count": null,
   "id": "cb1df89f-15e2-482e-a095-b1f9bbdb1b91",
   "metadata": {},
   "outputs": [],
   "source": [
    "frame.shape\n",
    "frame.info()\n",
    "frame.head()"
   ]
  },
  {
   "cell_type": "code",
   "execution_count": 28,
   "id": "21f21d0a-c10e-4a99-a174-57c3f9791764",
   "metadata": {},
   "outputs": [],
   "source": [
    "schema_frame = pd.read_csv('resources/survey_results_schema.csv', index_col=\"Column\")\n",
    "pd.set_option('display.max_rows', 85)"
   ]
  },
  {
   "cell_type": "code",
   "execution_count": 34,
   "id": "b68736a1-e92e-432f-b34f-d69d9ec256ab",
   "metadata": {},
   "outputs": [
    {
     "name": "stdout",
     "output_type": "stream",
     "text": [
      "<class 'pandas.core.frame.DataFrame'>\n",
      "Index: 85 entries, Respondent to SurveyEase\n",
      "Data columns (total 1 columns):\n",
      " #   Column        Non-Null Count  Dtype \n",
      "---  ------        --------------  ----- \n",
      " 0   QuestionText  85 non-null     object\n",
      "dtypes: object(1)\n",
      "memory usage: 3.4+ KB\n"
     ]
    },
    {
     "data": {
      "text/html": [
       "<div>\n",
       "<style scoped>\n",
       "    .dataframe tbody tr th:only-of-type {\n",
       "        vertical-align: middle;\n",
       "    }\n",
       "\n",
       "    .dataframe tbody tr th {\n",
       "        vertical-align: top;\n",
       "    }\n",
       "\n",
       "    .dataframe thead th {\n",
       "        text-align: right;\n",
       "    }\n",
       "</style>\n",
       "<table border=\"1\" class=\"dataframe\">\n",
       "  <thead>\n",
       "    <tr style=\"text-align: right;\">\n",
       "      <th></th>\n",
       "      <th>QuestionText</th>\n",
       "    </tr>\n",
       "    <tr>\n",
       "      <th>Column</th>\n",
       "      <th></th>\n",
       "    </tr>\n",
       "  </thead>\n",
       "  <tbody>\n",
       "    <tr>\n",
       "      <th>Respondent</th>\n",
       "      <td>Randomized respondent ID number (not in order ...</td>\n",
       "    </tr>\n",
       "    <tr>\n",
       "      <th>MainBranch</th>\n",
       "      <td>Which of the following options best describes ...</td>\n",
       "    </tr>\n",
       "    <tr>\n",
       "      <th>Hobbyist</th>\n",
       "      <td>Do you code as a hobby?</td>\n",
       "    </tr>\n",
       "    <tr>\n",
       "      <th>OpenSourcer</th>\n",
       "      <td>How often do you contribute to open source?</td>\n",
       "    </tr>\n",
       "    <tr>\n",
       "      <th>OpenSource</th>\n",
       "      <td>How do you feel about the quality of open sour...</td>\n",
       "    </tr>\n",
       "  </tbody>\n",
       "</table>\n",
       "</div>"
      ],
      "text/plain": [
       "                                                  QuestionText\n",
       "Column                                                        \n",
       "Respondent   Randomized respondent ID number (not in order ...\n",
       "MainBranch   Which of the following options best describes ...\n",
       "Hobbyist                               Do you code as a hobby?\n",
       "OpenSourcer        How often do you contribute to open source?\n",
       "OpenSource   How do you feel about the quality of open sour..."
      ]
     },
     "execution_count": 34,
     "metadata": {},
     "output_type": "execute_result"
    }
   ],
   "source": [
    "schema_frame.shape\n",
    "schema_frame.info()\n",
    "schema_frame.head()"
   ]
  },
  {
   "cell_type": "code",
   "execution_count": 38,
   "id": "9e9b05ee-1e62-4456-87f7-ee753191319e",
   "metadata": {},
   "outputs": [
    {
     "data": {
      "text/plain": [
       "'Randomized respondent ID number (not in order of survey response time)'"
      ]
     },
     "execution_count": 38,
     "metadata": {},
     "output_type": "execute_result"
    }
   ],
   "source": [
    "# Now we can search on `Column` column with loc function, because the default index is changed.\n",
    "# (first parameter is for row filter aand second one is for column name)\n",
    "schema_frame.loc[\"Respondent\", \"QuestionText\"] "
   ]
  },
  {
   "cell_type": "code",
   "execution_count": null,
   "id": "5d5b975f-f90a-4e55-a12c-aa333a274f59",
   "metadata": {},
   "outputs": [],
   "source": [
    "# What is a dataframe?\n",
    "# They are a simple schema over a table with concists of rows and columns\n",
    "# It is also something like a dictionary with list items BUT with a large number of added functionalities.\n",
    "# DataFrames are rows and columns and Series are the rows of the columns."
   ]
  },
  {
   "cell_type": "code",
   "execution_count": null,
   "id": "f8eb0947-9a10-45b2-a61e-152b19310fb1",
   "metadata": {},
   "outputs": [],
   "source": [
    "frame[[\"Respondent\", \"Hobbyist\"]]"
   ]
  },
  {
   "cell_type": "code",
   "execution_count": null,
   "id": "c3f7c3f2-f5b1-4355-af90-a5454f8b2cae",
   "metadata": {},
   "outputs": [],
   "source": [
    "frame.iloc[1000:1010] # Integer location of a row"
   ]
  },
  {
   "cell_type": "code",
   "execution_count": null,
   "id": "d2d46695-fcdf-46a5-be89-f8eb3c01cc27",
   "metadata": {},
   "outputs": [],
   "source": [
    "frame.iloc[[1000,1001, 1002], [1,2]] # Integer location of the rows and special columns"
   ]
  },
  {
   "cell_type": "code",
   "execution_count": null,
   "id": "daa29df8-9e8b-46b1-bbb2-9c1c167c8cf0",
   "metadata": {},
   "outputs": [],
   "source": [
    "frame.loc[1000:1005, [\"MainBranch\",\"Hobbyist\"]] # Integer location (as deafault indexes) of the rows and special columns using loc"
   ]
  },
  {
   "cell_type": "code",
   "execution_count": null,
   "id": "4e7b6d8f-037d-4535-b16c-054e1ae1a26a",
   "metadata": {},
   "outputs": [],
   "source": [
    "frame[\"Hobbyist\"].value_counts()"
   ]
  },
  {
   "cell_type": "code",
   "execution_count": null,
   "id": "f59b0df4-e7db-4422-838a-2c4af4abb667",
   "metadata": {},
   "outputs": [],
   "source": [
    "frame.loc[1000:1005, \"MainBranch\":\"Country\"] # Define column range"
   ]
  },
  {
   "cell_type": "code",
   "execution_count": 40,
   "id": "59ed59dc-5327-46bd-9f9f-9bd6bb7a0ab5",
   "metadata": {},
   "outputs": [],
   "source": [
    "# Indexes are not forced to be unique for pandas\n",
    "# But it would have better performance if we create it on unique columns\n",
    "# Indexes are labels for rows\n",
    "# frame.set_index(\"Respondent\", inplace=True) # With inplace=True set the current index as a default index\n",
    "# frame.index\n",
    "# frame\n",
    "# frame.loc[1] # Now it is using `Respondent` columns as index and search in this column for value `1`\n",
    "# frame.reset_index(inplace=True)\n",
    "# schema_frame.sort_index(ascending=False, inplace=True) # inplace=True makes this descending order for index permanent"
   ]
  },
  {
   "cell_type": "code",
   "execution_count": null,
   "id": "145f0b23-02d3-47ee-a4a0-10aadb8deb5a",
   "metadata": {},
   "outputs": [],
   "source": []
  }
 ],
 "metadata": {
  "kernelspec": {
   "display_name": "Python 3 (ipykernel)",
   "language": "python",
   "name": "python3"
  },
  "language_info": {
   "codemirror_mode": {
    "name": "ipython",
    "version": 3
   },
   "file_extension": ".py",
   "mimetype": "text/x-python",
   "name": "python",
   "nbconvert_exporter": "python",
   "pygments_lexer": "ipython3",
   "version": "3.10.11"
  }
 },
 "nbformat": 4,
 "nbformat_minor": 5
}
