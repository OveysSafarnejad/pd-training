{
 "cells": [
  {
   "cell_type": "code",
   "execution_count": null,
   "id": "8fa90266-22a1-44b9-b3b3-335de5345320",
   "metadata": {},
   "outputs": [],
   "source": [
    "frame = pd.read_csv('src/pandas_series/resources/survey_results_public.csv')"
   ]
  },
  {
   "cell_type": "code",
   "execution_count": null,
   "id": "50dd025c-3094-4606-a161-2ca6f33ac3b8",
   "metadata": {},
   "outputs": [],
   "source": [
    "frame.shape"
   ]
  },
  {
   "cell_type": "code",
   "execution_count": null,
   "id": "52b52a92-073e-4592-8a12-50569b04ffe9",
   "metadata": {},
   "outputs": [],
   "source": [
    "frame.info()"
   ]
  },
  {
   "cell_type": "code",
   "execution_count": null,
   "id": "b68736a1-e92e-432f-b34f-d69d9ec256ab",
   "metadata": {},
   "outputs": [],
   "source": [
    "pd.set_option('display.max_columns', 85)"
   ]
  },
  {
   "cell_type": "code",
   "execution_count": null,
   "id": "bb4112d0-c6ca-461d-bb58-4713e84dfda4",
   "metadata": {},
   "outputs": [],
   "source": [
    "frame.head()"
   ]
  },
  {
   "cell_type": "code",
   "execution_count": null,
   "id": "21f21d0a-c10e-4a99-a174-57c3f9791764",
   "metadata": {},
   "outputs": [],
   "source": [
    "schema_frame = pd.read_csv('src/pandas_series/resources/survey_results_schema.csv')"
   ]
  },
  {
   "cell_type": "code",
   "execution_count": null,
   "id": "c8b19cee-bf1b-420a-a6ff-1221213598d5",
   "metadata": {},
   "outputs": [],
   "source": [
    "pd.set_option('display.max_rows', 85)"
   ]
  },
  {
   "cell_type": "code",
   "execution_count": null,
   "id": "f181320c-7037-451d-b10d-7e4ed6785604",
   "metadata": {},
   "outputs": [],
   "source": [
    "schema_frame"
   ]
  },
  {
   "cell_type": "code",
   "execution_count": null,
   "id": "5d5b975f-f90a-4e55-a12c-aa333a274f59",
   "metadata": {},
   "outputs": [],
   "source": [
    "# What is a dataframe?\n",
    "# They are a simple schema over a table with concists of rows and columns\n",
    "# It is also something like a dictionary with list items BUT with a large number of added functionalities.\n",
    "# DataFrames are rows and columns and Series are the rows of the columns."
   ]
  },
  {
   "cell_type": "code",
   "execution_count": null,
   "id": "f2839a22-248e-4bf7-8eb1-b52dca3027a6",
   "metadata": {},
   "outputs": [],
   "source": [
    "type(frame[\"Respondent\"])"
   ]
  },
  {
   "cell_type": "code",
   "execution_count": null,
   "id": "f8eb0947-9a10-45b2-a61e-152b19310fb1",
   "metadata": {},
   "outputs": [],
   "source": [
    "frame[[\"Respondent\", \"Hobbyist\"]]"
   ]
  },
  {
   "cell_type": "code",
   "execution_count": null,
   "id": "c3f7c3f2-f5b1-4355-af90-a5454f8b2cae",
   "metadata": {},
   "outputs": [],
   "source": [
    "frame.iloc[1000:1010] # Integer location of a row"
   ]
  },
  {
   "cell_type": "code",
   "execution_count": null,
   "id": "d2d46695-fcdf-46a5-be89-f8eb3c01cc27",
   "metadata": {},
   "outputs": [],
   "source": [
    "frame.iloc[[1000,1001, 1002], [1,2]] # Integer location of the rows and special columns"
   ]
  },
  {
   "cell_type": "code",
   "execution_count": null,
   "id": "daa29df8-9e8b-46b1-bbb2-9c1c167c8cf0",
   "metadata": {},
   "outputs": [],
   "source": [
    "frame.loc[1000:1005, [\"MainBranch\",\"Hobbyist\"]] # Integer location (as deafault indexes) of the rows and special columns using loc"
   ]
  },
  {
   "cell_type": "code",
   "execution_count": null,
   "id": "4e7b6d8f-037d-4535-b16c-054e1ae1a26a",
   "metadata": {},
   "outputs": [],
   "source": [
    "frame[\"Hobbyist\"].value_counts()"
   ]
  },
  {
   "cell_type": "code",
   "execution_count": null,
   "id": "f59b0df4-e7db-4422-838a-2c4af4abb667",
   "metadata": {},
   "outputs": [],
   "source": [
    "frame.loc[1000:1005, \"MainBranch\":\"Country\"]"
   ]
  },
  {
   "cell_type": "code",
   "execution_count": null,
   "id": "59ed59dc-5327-46bd-9f9f-9bd6bb7a0ab5",
   "metadata": {},
   "outputs": [],
   "source": []
  }
 ],
 "metadata": {
  "kernelspec": {
   "display_name": "Python 3 (ipykernel)",
   "language": "python",
   "name": "python3"
  },
  "language_info": {
   "codemirror_mode": {
    "name": "ipython",
    "version": 3
   },
   "file_extension": ".py",
   "mimetype": "text/x-python",
   "name": "python",
   "nbconvert_exporter": "python",
   "pygments_lexer": "ipython3",
   "version": "3.10.11"
  }
 },
 "nbformat": 4,
 "nbformat_minor": 5
}
