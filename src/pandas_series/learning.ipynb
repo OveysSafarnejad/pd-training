{
 "cells": [
  {
   "cell_type": "code",
   "execution_count": 2,
   "id": "8fa90266-22a1-44b9-b3b3-335de5345320",
   "metadata": {},
   "outputs": [
    {
     "data": {
      "text/plain": [
       "PosixPath('/Users/audioworkstation/Documents/WORKSPACE/LEARNING/pd-training/src/pandas_series')"
      ]
     },
     "execution_count": 2,
     "metadata": {},
     "output_type": "execute_result"
    }
   ],
   "source": [
    "import pandas as pd\n",
    "from pathlib import Path\n",
    "Path.cwd()"
   ]
  },
  {
   "cell_type": "code",
   "execution_count": 44,
   "id": "6bc1be90-07a0-48c9-b0e9-8d366ab885e8",
   "metadata": {},
   "outputs": [],
   "source": [
    "frame = pd.read_csv('resources/survey_results_public.csv', index_col=\"Respondent\")\n",
    "pd.set_option('display.max_columns', 85)\n",
    "pd.set_option('display.max_rows', 200)\n",
    "\n"
   ]
  },
  {
   "cell_type": "code",
   "execution_count": 27,
   "id": "cb1df89f-15e2-482e-a095-b1f9bbdb1b91",
   "metadata": {},
   "outputs": [],
   "source": [
    "# frame.shape\n",
    "# frame.info()\n",
    "# frame.head(1)"
   ]
  },
  {
   "cell_type": "code",
   "execution_count": 29,
   "id": "21f21d0a-c10e-4a99-a174-57c3f9791764",
   "metadata": {},
   "outputs": [],
   "source": [
    "schema_frame = pd.read_csv('resources/survey_results_schema.csv', index_col=\"Column\")\n",
    "pd.set_option('display.max_rows', 85)"
   ]
  },
  {
   "cell_type": "code",
   "execution_count": 121,
   "id": "b68736a1-e92e-432f-b34f-d69d9ec256ab",
   "metadata": {},
   "outputs": [],
   "source": [
    "# schema_frame.shape\n",
    "# schema_frame.info()\n",
    "# schema_frame.head()"
   ]
  },
  {
   "cell_type": "code",
   "execution_count": 122,
   "id": "9e9b05ee-1e62-4456-87f7-ee753191319e",
   "metadata": {},
   "outputs": [],
   "source": [
    "# Now we can search on `Column` column with loc function, because the default index is changed.\n",
    "# (first parameter is for row filter aand second one is for column name)\n",
    "schema_frame.loc[\"Respondent\", \"QuestionText\"] "
   ]
  },
  {
   "cell_type": "code",
   "execution_count": null,
   "id": "5d5b975f-f90a-4e55-a12c-aa333a274f59",
   "metadata": {},
   "outputs": [],
   "source": [
    "# What is a dataframe?\n",
    "# They are a simple schema over a table with concists of rows and columns\n",
    "# It is also something like a dictionary with list items BUT with a large number of added functionalities.\n",
    "# DataFrames are rows and columns and Series are the rows of the columns."
   ]
  },
  {
   "cell_type": "code",
   "execution_count": null,
   "id": "f8eb0947-9a10-45b2-a61e-152b19310fb1",
   "metadata": {},
   "outputs": [],
   "source": [
    "frame[[\"Respondent\", \"Hobbyist\"]]"
   ]
  },
  {
   "cell_type": "code",
   "execution_count": null,
   "id": "c3f7c3f2-f5b1-4355-af90-a5454f8b2cae",
   "metadata": {},
   "outputs": [],
   "source": [
    "frame.iloc[1000:1010] # Integer location of a row"
   ]
  },
  {
   "cell_type": "code",
   "execution_count": null,
   "id": "d2d46695-fcdf-46a5-be89-f8eb3c01cc27",
   "metadata": {},
   "outputs": [],
   "source": [
    "frame.iloc[[1000,1001, 1002], [1,2]] # Integer location of the rows and special columns"
   ]
  },
  {
   "cell_type": "code",
   "execution_count": null,
   "id": "daa29df8-9e8b-46b1-bbb2-9c1c167c8cf0",
   "metadata": {},
   "outputs": [],
   "source": [
    "frame.loc[1000:1005, [\"MainBranch\",\"Hobbyist\"]] # Integer location (as deafault indexes) of the rows and special columns using loc"
   ]
  },
  {
   "cell_type": "code",
   "execution_count": null,
   "id": "4e7b6d8f-037d-4535-b16c-054e1ae1a26a",
   "metadata": {},
   "outputs": [],
   "source": [
    "frame[\"Hobbyist\"].value_counts()"
   ]
  },
  {
   "cell_type": "code",
   "execution_count": null,
   "id": "f59b0df4-e7db-4422-838a-2c4af4abb667",
   "metadata": {},
   "outputs": [],
   "source": [
    "frame.loc[1000:1005, \"MainBranch\":\"Country\"] # Define column range"
   ]
  },
  {
   "cell_type": "code",
   "execution_count": 40,
   "id": "59ed59dc-5327-46bd-9f9f-9bd6bb7a0ab5",
   "metadata": {},
   "outputs": [],
   "source": [
    "# Indexes are not forced to be unique for pandas\n",
    "# But it would have better performance if we create it on unique columns\n",
    "# Indexes are labels for rows\n",
    "# frame.set_index(\"Respondent\", inplace=True) # With inplace=True set the current index as a default index\n",
    "# frame.index\n",
    "# frame\n",
    "# frame.loc[1] # Now it is using `Respondent` columns as index and search in this column for value `1`\n",
    "# frame.reset_index(inplace=True)\n",
    "# schema_frame.sort_index(ascending=False, inplace=True) # inplace=True makes this descending order for index permanent"
   ]
  },
  {
   "cell_type": "code",
   "execution_count": 123,
   "id": "e2dd2e88-74c2-48f8-bf89-b58da9043764",
   "metadata": {},
   "outputs": [],
   "source": [
    "countries_filter = frame[\"Country\"].isin([\"United States\", \"Iran\", \"Germany\"])\n",
    "age_filter = frame[\"Age1stCode\"] == \"29\"\n",
    "pythonist_filter = frame[\"LanguageWorkedWith\"].str.contains(\"Python\", na=False) == True # na=False means exclude rows with NaN from filtering to avoid exceptions\n",
    "# frame[countries_filter & age_filter & pythonist_filter]\n",
    "filtered = frame.loc[\n",
    "    countries_filter & age_filter & pythonist_filter,\n",
    "    (\"LanguageWorkedWith\", \"Student\", \"Age\", \"Country\")\n",
    "] # Preferred way\n",
    "\n",
    "# filtered.shape, filtered.size, len(filtered)\n",
    "filtered "
   ]
  },
  {
   "cell_type": "code",
   "execution_count": 131,
   "id": "23ee9b5c-abdd-43b1-81fe-2c1345e7924e",
   "metadata": {},
   "outputs": [],
   "source": [
    "frame.columns = [column.upper() for column in frame.columns]\n",
    "frame.columns = frame.columns.str.replace(' ', '_')\n",
    "frame.rename(\n",
    "    columns={\n",
    "        \"old_column_name\": \"new_name\",\n",
    "        \"OPENSOURCER\": \"open_sourcer\"\n",
    "    },\n",
    "    inplace=True # inplace=True for applying permanently\n",
    ")"
   ]
  },
  {
   "cell_type": "code",
   "execution_count": 134,
   "id": "8636bfea-a3e7-4bb3-99b0-c2176fcc6f1d",
   "metadata": {},
   "outputs": [],
   "source": [
    "frame.loc[1, (\"HOBBYIST\", \"open_sourcer\")] = [\"No\", \"Less than once per year\"] # in this way we don't need to pass all the repetitive values and can just set changes."
   ]
  },
  {
   "cell_type": "code",
   "execution_count": 136,
   "id": "7520918f-f5f1-4013-8162-fa731ad27f36",
   "metadata": {},
   "outputs": [],
   "source": [
    "frame.at[1, \"HOBBYIST\"] = \"Yes\""
   ]
  },
  {
   "cell_type": "code",
   "execution_count": 26,
   "id": "8f59379b-74cf-42b8-9e1f-4234bcd01e05",
   "metadata": {},
   "outputs": [],
   "source": [
    "frame.loc[\n",
    "    (frame[\"COUNTRY\"] == \"United Kingdom\") & (frame[\"DEVENVIRON\"] == \"IntelliJ;Notepad++;PyCharm\"), # filtering rows\n",
    "    \"WEBFRAMEDESIRENEXTYEAR\" # columns to be updated\n",
    "] = \"FLASK2\"\n",
    "frame[frame[\"WEBFRAMEDESIRENEXTYEAR\"] == \"FLASK2\"]"
   ]
  },
  {
   "cell_type": "code",
   "execution_count": 25,
   "id": "25d0167f-516f-48f9-80ef-5f0060b76279",
   "metadata": {},
   "outputs": [],
   "source": [
    "apply: applies on series and also dataframes\n",
    "frame[\"ITPERSON\"].apply(lambda x: x * 1)\n",
    "frame.apply(len , axis = \"columns\") # it will apply on each series of frame by default(axis='rows')\n",
    "frame.apply(pd.Series.min) # min value of each columns if all values in a columns are of the same type\n",
    "\n",
    "map: applies only on a series and substitue any value in a series with a new value\n",
    "'''\n",
    "in here every `Windows` in OPSYS column will be replaced with `Microsoft` but the unmentioned one will be NaN \n",
    "and if we want to ignore unmentioned one we can use replace instead of map function\n",
    "'''\n",
    "frame[\"OPSYS\"].map({\"Windows\": \"Microsoft\"})\n",
    "\n",
    "applymap : applies a function to any individual item in the dataframe (Just for fataframes not for series)\n",
    "frame.applymap(lambda x: x)\n",
    "frame.applymap(str.lower)\n",
    "\n",
    "replace\n",
    "frame[\"OPSYS\"].replace({\"Windows\": \"Microsoft\"})"
   ]
  },
  {
   "cell_type": "code",
   "execution_count": 28,
   "id": "a814781c-edad-4721-aa26-ba6c30d7fe40",
   "metadata": {},
   "outputs": [],
   "source": [
    "ADDING AND REMOVING COLUMNS:\n",
    "\n",
    "frame[\"calculated_age\"] = frame[\"Age1stCode\"] + ' ' + frame[\"YearsCode\"] \n",
    "frame.drop(columns=[\"calculated_age\"], inplace=True) # to apply inline\n",
    "splited = frame[\"calculated_age\"].str.split(' ', expand=True) # this does not work well because of NaN values\n",
    "frame[[\"first\", \"second\"]] = splited"
   ]
  },
  {
   "cell_type": "code",
   "execution_count": 68,
   "id": "93ffc5c9-e5d6-4bc5-87f0-47d3ce4e341b",
   "metadata": {},
   "outputs": [],
   "source": [
    "ADDING AND REMOVING ROWS:\n",
    "schema_frame.append({\"QuestionText\": \"TEST\"}, ignore_index=True) # This method is deprecated in pandas\n",
    "schema_frame = pd.read_csv('resources/survey_results_schema.csv')\n",
    "data = {\n",
    "    \"Column\": [\"new_column\"],\n",
    "    \"QuestionText\": [\"Is this a new question?\"]\n",
    "}\n",
    "appending_df = pd.DataFrame(data)\n",
    "schema_frame.append(appending_df, ignore_index=True, sorted=False) # This does not work also\n",
    "\n",
    "df3 = pd.concat([schema_frame, appending_df], ignore_index = True)\n",
    "df3.reset_index()\n",
    "schema_frame.loc[len(schema_frame.index)] = [\"New Columns\", \"New Question\"]\n",
    "\n",
    "Remove using index\n",
    "schema_frame.drop(index=85 , inplace=True)\n",
    "schema_frame\n",
    "\n",
    "Remove using filters\n",
    "filt = schema_frame[\"Column\"] == \"New Columns\"\n",
    "schema_frame.drop(index=schema_frame[filt].index,  inplace=True)\n",
    "\n",
    "schema_frame\n"
   ]
  },
  {
   "cell_type": "code",
   "execution_count": 76,
   "id": "e65ed317-af85-4351-92a4-3ee3c70c3f66",
   "metadata": {},
   "outputs": [],
   "source": [
    "schema_frame.sort_values(by=[\"Column\"], ascending=False)\n",
    "schema_frame.sort_values(by=[\"Column\", \"QuestionText\"], ascending=False) # sort based on `Column` and then `QuestionText` descending\n",
    "schema_frame.sort_values(by=[\"Column\", \"QuestionText\"], ascending=[True, False]) # sort based on `Column` ascending and then `QuestionText` descending\n",
    "schema_frame.sort_index() # to revert every sortings  has applied"
   ]
  },
  {
   "cell_type": "code",
   "execution_count": 82,
   "id": "57dd2380-5cc6-4b65-af3a-3ea00682e9fc",
   "metadata": {},
   "outputs": [],
   "source": [
    "frame.sort_values(by=[\"Country\", \"ConvertedComp\"], ascending=[True, False], inplace=True)\n",
    "frame[[\"Country\", \"ConvertedComp\"]].head(100)\n"
   ]
  },
  {
   "cell_type": "code",
   "execution_count": 85,
   "id": "6e48d468-1eb8-400d-83bf-242ba69fa6fa",
   "metadata": {},
   "outputs": [],
   "source": [
    "frame[\"ConvertedComp\"].nlargest(10) # to see n largest salaries\n",
    "frame.nlargest(10, \"ConvertedComp\") # to see 10 rows with highest salaries \n"
   ]
  },
  {
   "cell_type": "code",
   "execution_count": 95,
   "id": "31bdf1a5-2138-4c8d-85fa-528c4a98d87b",
   "metadata": {},
   "outputs": [
    {
     "data": {
      "text/plain": [
       "Hobbyist\n",
       "Yes    71257\n",
       "No     17626\n",
       "Name: count, dtype: int64"
      ]
     },
     "execution_count": 95,
     "metadata": {},
     "output_type": "execute_result"
    }
   ],
   "source": [
    "frame[\"ConvertedComp\"].median()\n",
    "frame.describe() # count is number of not NaN rows, 50% is median\n",
    "frame[\"ConvertedComp\"].count() # like count row in the above code\n",
    "frame[\"Hobbyist\"].value_counts()\n",
    "frame[\"SocialMedia\"].value_counts(normalize=True)"
   ]
  },
  {
   "cell_type": "code",
   "execution_count": 78,
   "id": "6ae6736d-f0a2-430f-bf6b-13a416a5e27d",
   "metadata": {},
   "outputs": [
    {
     "data": {
      "text/plain": [
       "Country                                         \n",
       "Iran                                       False      463\n",
       "                                           True       268\n",
       "Iraq                                       False       19\n",
       "                                           True        17\n",
       "Ireland                                    False      286\n",
       "                                           True       209\n",
       "Israel                                     False      487\n",
       "                                           True       457\n",
       "Italy                                      False      929\n",
       "                                           True       625\n",
       "Jamaica                                    False       20\n",
       "                                           True         8\n",
       "Japan                                      False      205\n",
       "                                           True       182\n",
       "Jordan                                     False       43\n",
       "                                           True        22\n",
       "Kazakhstan                                 False       49\n",
       "                                           True        15\n",
       "Kenya                                      True       120\n",
       "                                           False      119\n",
       "Kuwait                                     False       14\n",
       "                                           True         6\n",
       "Kyrgyzstan                                 False       13\n",
       "                                           True         6\n",
       "Lao People's Democratic Republic           False        3\n",
       "Latvia                                     False       97\n",
       "                                           True        39\n",
       "Lebanon                                    False       74\n",
       "                                           True        42\n",
       "Lesotho                                    False        2\n",
       "                                           True         1\n",
       "Libyan Arab Jamahiriya                     False        8\n",
       "                                           True         2\n",
       "Liechtenstein                              False        2\n",
       "                                           True         1\n",
       "Lithuania                                  False      165\n",
       "                                           True        79\n",
       "Luxembourg                                 False       35\n",
       "                                           True        25\n",
       "Madagascar                                 False       10\n",
       "                                           True         4\n",
       "Malawi                                     False        2\n",
       "Malaysia                                   False      195\n",
       "                                           True        95\n",
       "Maldives                                   False        7\n",
       "                                           True         6\n",
       "Mali                                       False        2\n",
       "                                           True         1\n",
       "Malta                                      False       45\n",
       "                                           True        20\n",
       "Mauritania                                 True         5\n",
       "                                           False        2\n",
       "Mauritius                                  False       18\n",
       "                                           True         8\n",
       "Mexico                                     False      388\n",
       "                                           True       245\n",
       "Monaco                                     True         2\n",
       "                                           False        2\n",
       "Mongolia                                   False        9\n",
       "                                           True         8\n",
       "Montenegro                                 False        9\n",
       "                                           True         8\n",
       "Morocco                                    False      100\n",
       "                                           True        50\n",
       "Mozambique                                 False        6\n",
       "                                           True         1\n",
       "Myanmar                                    False       37\n",
       "                                           True         9\n",
       "Namibia                                    True         3\n",
       "                                           False        2\n",
       "Nepal                                      False      123\n",
       "                                           True       101\n",
       "Netherlands                                False     1071\n",
       "                                           True       767\n",
       "New Zealand                                False      283\n",
       "                                           True       236\n",
       "Nicaragua                                  False       20\n",
       "                                           True        10\n",
       "Niger                                      True         1\n",
       "Nigeria                                    False      341\n",
       "                                           True       152\n",
       "North Korea                                False        1\n",
       "Norway                                     False      336\n",
       "                                           True       232\n",
       "Oman                                       True         6\n",
       "                                           False        5\n",
       "Other Country (Not Listed Above)           False       88\n",
       "                                           True        37\n",
       "Pakistan                                   False      649\n",
       "                                           True       251\n",
       "Panama                                     False       20\n",
       "                                           True        13\n",
       "Papua New Guinea                           False        1\n",
       "Paraguay                                   False       33\n",
       "                                           True        19\n",
       "Peru                                       False       80\n",
       "                                           True        47\n",
       "Philippines                                False      244\n",
       "                                           True       117\n",
       "Poland                                     False     1156\n",
       "                                           True       751\n",
       "Portugal                                   False      339\n",
       "                                           True       182\n",
       "Qatar                                      False        8\n",
       "                                           True         5\n",
       "Republic of Korea                          True        20\n",
       "                                           False       17\n",
       "Republic of Moldova                        False       35\n",
       "                                           True         7\n",
       "Romania                                    False      491\n",
       "                                           True       253\n",
       "Russian Federation                         False      978\n",
       "                                           True       708\n",
       "Rwanda                                     False        7\n",
       "                                           True         5\n",
       "Saint Kitts and Nevis                      False        1\n",
       "Saint Vincent and the Grenadines           False        1\n",
       "San Marino                                 True         1\n",
       "                                           False        1\n",
       "Sao Tome and Principe                      True         1\n",
       "Saudi Arabia                               False       62\n",
       "                                           True        33\n",
       "Senegal                                    False       13\n",
       "                                           True         8\n",
       "Serbia                                     False      278\n",
       "                                           True       117\n",
       "Seychelles                                 False        1\n",
       "                                           True         1\n",
       "Sierra Leone                               True         1\n",
       "Singapore                                  False      161\n",
       "                                           True       139\n",
       "Slovakia                                   False      155\n",
       "                                           True       101\n",
       "Slovenia                                   False      178\n",
       "                                           True       119\n",
       "Somalia                                    False        9\n",
       "                                           True         3\n",
       "South Africa                               False      414\n",
       "                                           True       202\n",
       "South Korea                                True        80\n",
       "                                           False       77\n",
       "Spain                                      False      947\n",
       "                                           True       641\n",
       "Sri Lanka                                  False      229\n",
       "                                           True       137\n",
       "Sudan                                      False       22\n",
       "                                           True        16\n",
       "Swaziland                                  False        6\n",
       "                                           True         2\n",
       "Sweden                                     False      767\n",
       "                                           True       496\n",
       "Switzerland                                False      512\n",
       "                                           True       460\n",
       "Syrian Arab Republic                       False       21\n",
       "                                           True         7\n",
       "Taiwan                                     False       95\n",
       "                                           True        88\n",
       "Tajikistan                                 False        6\n",
       "Thailand                                   False      114\n",
       "                                           True        92\n",
       "The former Yugoslav Republic of Macedonia  False       45\n",
       "                                           True         8\n",
       "Timor-Leste                                True         1\n",
       "Togo                                       False        3\n",
       "                                           True         1\n",
       "Tonga                                      False        1\n",
       "Trinidad and Tobago                        False       14\n",
       "                                           True         5\n",
       "Tunisia                                    False       86\n",
       "                                           True        40\n",
       "Turkey                                     False      553\n",
       "                                           True       371\n",
       "Turkmenistan                               True         6\n",
       "                                           False        1\n",
       "Uganda                                     True        47\n",
       "                                           False       25\n",
       "Ukraine                                    False      615\n",
       "                                           True       246\n",
       "United Arab Emirates                       False      104\n",
       "                                           True        49\n",
       "United Kingdom                             False     3306\n",
       "                                           True      2384\n",
       "United Republic of Tanzania                False       16\n",
       "                                           True        15\n",
       "United States                              False    10686\n",
       "                                           True     10083\n",
       "Uruguay                                    False       75\n",
       "                                           True        36\n",
       "Uzbekistan                                 False       25\n",
       "                                           True        14\n",
       "Venezuela, Bolivarian Republic of...       False       59\n",
       "                                           True        28\n",
       "Viet Nam                                   False      142\n",
       "                                           True        78\n",
       "Yemen                                      False       14\n",
       "                                           True         3\n",
       "Zambia                                     False        8\n",
       "                                           True         4\n",
       "Zimbabwe                                   False       25\n",
       "                                           True        14\n",
       "Name: LanguageWorkedWith, dtype: int64"
      ]
     },
     "execution_count": 78,
     "metadata": {},
     "output_type": "execute_result"
    }
   ],
   "source": [
    "country_grp = frame.groupby([\"Country\"])\n",
    "\n",
    "country_grp.get_group(\"Iran\")[\"SocialMedia\"].value_counts()\n",
    "country_grp[\"SocialMedia\"].value_counts()\n",
    "country_grp[\"SocialMedia\"].value_counts(normalize=True).loc[\"Germany\"]\n",
    "country_grp[\"ConvertedComp\"].median()\n",
    "country_grp[\"ConvertedComp\"].median().loc[\"Germany\"]\n",
    "country_grp[\"ConvertedComp\"].agg([\"median\", \"mean\"]).loc[\"Germany\"]\n",
    "country_grp.get_group(\"Germany\")[\"LanguageWorkedWith\"].str.contains(\"Python\").sum() # all pythonists in germany\n",
    "# country_grp[\"LanguageWorkedWith\"].str.contains(\"Python\").sum() # This will raises an error `'SeriesGroupBy' object has no attribute 'str'`  but instead:\n",
    "# we want to calculate number of pythonist in each country so actually we are applying a function in a groupby instance\n",
    "country_grp[\"LanguageWorkedWith\"].apply(lambda x: (x.str.contains(\"Python\").sum() / len(x)) * 100) # number of pythonists in each country\n",
    "country_grp[\"LanguageWorkedWith\"].apply(lambda x: x.str.contains(\"Python\").value_counts(normalize=True)) # this method is not so precise because it ignores the NaN cases "
   ]
  },
  {
   "cell_type": "code",
   "execution_count": 50,
   "id": "1c900f54-2485-41a6-959a-597c85aae1e5",
   "metadata": {},
   "outputs": [
    {
     "data": {
      "text/plain": [
       "63016.0"
      ]
     },
     "execution_count": 50,
     "metadata": {},
     "output_type": "execute_result"
    }
   ],
   "source": [
    "python_filter = frame[\"LanguageWorkedWith\"].str.contains(\"Python\") == True\n",
    "python_dev = frame.loc[python_filter]\n",
    "countries_pythonist_grp = python_dev.groupby(\"Country\")\n",
    "countries_pythonist_grp[\"ConvertedComp\"].median().loc[\"Germany\"]\n",
    "python_dev[\"Country\"].str.contains(\"Germany\").sum()"
   ]
  },
  {
   "cell_type": "code",
   "execution_count": null,
   "id": "2bf6d99f-6243-4303-952c-97f0414c5d9c",
   "metadata": {},
   "outputs": [],
   "source": []
  }
 ],
 "metadata": {
  "kernelspec": {
   "display_name": "Python 3 (ipykernel)",
   "language": "python",
   "name": "python3"
  },
  "language_info": {
   "codemirror_mode": {
    "name": "ipython",
    "version": 3
   },
   "file_extension": ".py",
   "mimetype": "text/x-python",
   "name": "python",
   "nbconvert_exporter": "python",
   "pygments_lexer": "ipython3",
   "version": "3.10.11"
  }
 },
 "nbformat": 4,
 "nbformat_minor": 5
}
